{
 "cells": [
  {
   "cell_type": "code",
   "execution_count": 79,
   "metadata": {},
   "outputs": [
    {
     "name": "stdout",
     "output_type": "stream",
     "text": [
      "Requirement already satisfied: langchain-community in c:\\users\\khale\\machine_learning\\.venv\\lib\\site-packages (0.2.0)\n",
      "Requirement already satisfied: pinecone-client in c:\\users\\khale\\machine_learning\\.venv\\lib\\site-packages (4.1.0)\n",
      "Requirement already satisfied: openai in c:\\users\\khale\\machine_learning\\.venv\\lib\\site-packages (1.30.1)\n",
      "Requirement already satisfied: tiktoken in c:\\users\\khale\\machine_learning\\.venv\\lib\\site-packages (0.7.0)\n",
      "Requirement already satisfied: ipywidgets in c:\\users\\khale\\machine_learning\\.venv\\lib\\site-packages (8.1.2)\n",
      "Requirement already satisfied: langchain-openai in c:\\users\\khale\\machine_learning\\.venv\\lib\\site-packages (0.1.7)\n",
      "Collecting astor\n",
      "  Downloading astor-0.8.1-py2.py3-none-any.whl.metadata (4.2 kB)\n",
      "Requirement already satisfied: PyYAML>=5.3 in c:\\users\\khale\\machine_learning\\.venv\\lib\\site-packages (from langchain-community) (6.0.1)\n",
      "Requirement already satisfied: SQLAlchemy<3,>=1.4 in c:\\users\\khale\\machine_learning\\.venv\\lib\\site-packages (from langchain-community) (2.0.30)\n",
      "Requirement already satisfied: aiohttp<4.0.0,>=3.8.3 in c:\\users\\khale\\machine_learning\\.venv\\lib\\site-packages (from langchain-community) (3.9.5)\n",
      "Requirement already satisfied: dataclasses-json<0.7,>=0.5.7 in c:\\users\\khale\\machine_learning\\.venv\\lib\\site-packages (from langchain-community) (0.6.6)\n",
      "Requirement already satisfied: langchain<0.3.0,>=0.2.0 in c:\\users\\khale\\machine_learning\\.venv\\lib\\site-packages (from langchain-community) (0.2.0)\n",
      "Requirement already satisfied: langchain-core<0.3.0,>=0.2.0 in c:\\users\\khale\\machine_learning\\.venv\\lib\\site-packages (from langchain-community) (0.2.0)\n",
      "Requirement already satisfied: langsmith<0.2.0,>=0.1.0 in c:\\users\\khale\\machine_learning\\.venv\\lib\\site-packages (from langchain-community) (0.1.60)\n",
      "Requirement already satisfied: numpy<2,>=1 in c:\\users\\khale\\machine_learning\\.venv\\lib\\site-packages (from langchain-community) (1.26.4)\n",
      "Requirement already satisfied: requests<3,>=2 in c:\\users\\khale\\machine_learning\\.venv\\lib\\site-packages (from langchain-community) (2.32.2)\n",
      "Requirement already satisfied: tenacity<9.0.0,>=8.1.0 in c:\\users\\khale\\machine_learning\\.venv\\lib\\site-packages (from langchain-community) (8.3.0)\n",
      "Requirement already satisfied: certifi>=2019.11.17 in c:\\users\\khale\\machine_learning\\.venv\\lib\\site-packages (from pinecone-client) (2024.2.2)\n",
      "Requirement already satisfied: tqdm>=4.64.1 in c:\\users\\khale\\machine_learning\\.venv\\lib\\site-packages (from pinecone-client) (4.66.4)\n",
      "Requirement already satisfied: typing-extensions>=3.7.4 in c:\\users\\khale\\machine_learning\\.venv\\lib\\site-packages (from pinecone-client) (4.11.0)\n",
      "Requirement already satisfied: urllib3>=1.26.0 in c:\\users\\khale\\machine_learning\\.venv\\lib\\site-packages (from pinecone-client) (2.2.1)\n",
      "Requirement already satisfied: anyio<5,>=3.5.0 in c:\\users\\khale\\machine_learning\\.venv\\lib\\site-packages (from openai) (4.3.0)\n",
      "Requirement already satisfied: distro<2,>=1.7.0 in c:\\users\\khale\\machine_learning\\.venv\\lib\\site-packages (from openai) (1.9.0)\n",
      "Requirement already satisfied: httpx<1,>=0.23.0 in c:\\users\\khale\\machine_learning\\.venv\\lib\\site-packages (from openai) (0.27.0)\n",
      "Requirement already satisfied: pydantic<3,>=1.9.0 in c:\\users\\khale\\machine_learning\\.venv\\lib\\site-packages (from openai) (2.7.1)\n",
      "Requirement already satisfied: sniffio in c:\\users\\khale\\machine_learning\\.venv\\lib\\site-packages (from openai) (1.3.1)\n",
      "Requirement already satisfied: regex>=2022.1.18 in c:\\users\\khale\\machine_learning\\.venv\\lib\\site-packages (from tiktoken) (2024.5.15)\n",
      "Requirement already satisfied: comm>=0.1.3 in c:\\users\\khale\\machine_learning\\.venv\\lib\\site-packages (from ipywidgets) (0.2.2)\n",
      "Requirement already satisfied: ipython>=6.1.0 in c:\\users\\khale\\machine_learning\\.venv\\lib\\site-packages (from ipywidgets) (8.24.0)\n",
      "Requirement already satisfied: traitlets>=4.3.1 in c:\\users\\khale\\machine_learning\\.venv\\lib\\site-packages (from ipywidgets) (5.14.3)\n",
      "Requirement already satisfied: widgetsnbextension~=4.0.10 in c:\\users\\khale\\machine_learning\\.venv\\lib\\site-packages (from ipywidgets) (4.0.10)\n",
      "Requirement already satisfied: jupyterlab-widgets~=3.0.10 in c:\\users\\khale\\machine_learning\\.venv\\lib\\site-packages (from ipywidgets) (3.0.10)\n",
      "Requirement already satisfied: aiosignal>=1.1.2 in c:\\users\\khale\\machine_learning\\.venv\\lib\\site-packages (from aiohttp<4.0.0,>=3.8.3->langchain-community) (1.3.1)\n",
      "Requirement already satisfied: attrs>=17.3.0 in c:\\users\\khale\\machine_learning\\.venv\\lib\\site-packages (from aiohttp<4.0.0,>=3.8.3->langchain-community) (23.2.0)\n",
      "Requirement already satisfied: frozenlist>=1.1.1 in c:\\users\\khale\\machine_learning\\.venv\\lib\\site-packages (from aiohttp<4.0.0,>=3.8.3->langchain-community) (1.4.1)\n",
      "Requirement already satisfied: multidict<7.0,>=4.5 in c:\\users\\khale\\machine_learning\\.venv\\lib\\site-packages (from aiohttp<4.0.0,>=3.8.3->langchain-community) (6.0.5)\n",
      "Requirement already satisfied: yarl<2.0,>=1.0 in c:\\users\\khale\\machine_learning\\.venv\\lib\\site-packages (from aiohttp<4.0.0,>=3.8.3->langchain-community) (1.9.4)\n",
      "Requirement already satisfied: idna>=2.8 in c:\\users\\khale\\machine_learning\\.venv\\lib\\site-packages (from anyio<5,>=3.5.0->openai) (3.7)\n",
      "Requirement already satisfied: marshmallow<4.0.0,>=3.18.0 in c:\\users\\khale\\machine_learning\\.venv\\lib\\site-packages (from dataclasses-json<0.7,>=0.5.7->langchain-community) (3.21.2)\n",
      "Requirement already satisfied: typing-inspect<1,>=0.4.0 in c:\\users\\khale\\machine_learning\\.venv\\lib\\site-packages (from dataclasses-json<0.7,>=0.5.7->langchain-community) (0.9.0)\n",
      "Requirement already satisfied: httpcore==1.* in c:\\users\\khale\\machine_learning\\.venv\\lib\\site-packages (from httpx<1,>=0.23.0->openai) (1.0.5)\n",
      "Requirement already satisfied: h11<0.15,>=0.13 in c:\\users\\khale\\machine_learning\\.venv\\lib\\site-packages (from httpcore==1.*->httpx<1,>=0.23.0->openai) (0.14.0)\n",
      "Requirement already satisfied: decorator in c:\\users\\khale\\machine_learning\\.venv\\lib\\site-packages (from ipython>=6.1.0->ipywidgets) (5.1.1)\n",
      "Requirement already satisfied: jedi>=0.16 in c:\\users\\khale\\machine_learning\\.venv\\lib\\site-packages (from ipython>=6.1.0->ipywidgets) (0.19.1)\n",
      "Requirement already satisfied: matplotlib-inline in c:\\users\\khale\\machine_learning\\.venv\\lib\\site-packages (from ipython>=6.1.0->ipywidgets) (0.1.7)\n",
      "Requirement already satisfied: prompt-toolkit<3.1.0,>=3.0.41 in c:\\users\\khale\\machine_learning\\.venv\\lib\\site-packages (from ipython>=6.1.0->ipywidgets) (3.0.43)\n",
      "Requirement already satisfied: pygments>=2.4.0 in c:\\users\\khale\\machine_learning\\.venv\\lib\\site-packages (from ipython>=6.1.0->ipywidgets) (2.18.0)\n",
      "Requirement already satisfied: stack-data in c:\\users\\khale\\machine_learning\\.venv\\lib\\site-packages (from ipython>=6.1.0->ipywidgets) (0.6.3)\n",
      "Requirement already satisfied: colorama in c:\\users\\khale\\machine_learning\\.venv\\lib\\site-packages (from ipython>=6.1.0->ipywidgets) (0.4.6)\n",
      "Requirement already satisfied: langchain-text-splitters<0.3.0,>=0.2.0 in c:\\users\\khale\\machine_learning\\.venv\\lib\\site-packages (from langchain<0.3.0,>=0.2.0->langchain-community) (0.2.0)\n",
      "Requirement already satisfied: jsonpatch<2.0,>=1.33 in c:\\users\\khale\\machine_learning\\.venv\\lib\\site-packages (from langchain-core<0.3.0,>=0.2.0->langchain-community) (1.33)\n",
      "Requirement already satisfied: packaging<24.0,>=23.2 in c:\\users\\khale\\machine_learning\\.venv\\lib\\site-packages (from langchain-core<0.3.0,>=0.2.0->langchain-community) (23.2)\n",
      "Requirement already satisfied: orjson<4.0.0,>=3.9.14 in c:\\users\\khale\\machine_learning\\.venv\\lib\\site-packages (from langsmith<0.2.0,>=0.1.0->langchain-community) (3.10.3)\n",
      "Requirement already satisfied: annotated-types>=0.4.0 in c:\\users\\khale\\machine_learning\\.venv\\lib\\site-packages (from pydantic<3,>=1.9.0->openai) (0.7.0)\n",
      "Requirement already satisfied: pydantic-core==2.18.2 in c:\\users\\khale\\machine_learning\\.venv\\lib\\site-packages (from pydantic<3,>=1.9.0->openai) (2.18.2)\n",
      "Requirement already satisfied: charset-normalizer<4,>=2 in c:\\users\\khale\\machine_learning\\.venv\\lib\\site-packages (from requests<3,>=2->langchain-community) (3.3.2)\n",
      "Requirement already satisfied: greenlet!=0.4.17 in c:\\users\\khale\\machine_learning\\.venv\\lib\\site-packages (from SQLAlchemy<3,>=1.4->langchain-community) (3.0.3)\n",
      "Requirement already satisfied: parso<0.9.0,>=0.8.3 in c:\\users\\khale\\machine_learning\\.venv\\lib\\site-packages (from jedi>=0.16->ipython>=6.1.0->ipywidgets) (0.8.4)\n",
      "Requirement already satisfied: jsonpointer>=1.9 in c:\\users\\khale\\machine_learning\\.venv\\lib\\site-packages (from jsonpatch<2.0,>=1.33->langchain-core<0.3.0,>=0.2.0->langchain-community) (2.4)\n",
      "Requirement already satisfied: wcwidth in c:\\users\\khale\\machine_learning\\.venv\\lib\\site-packages (from prompt-toolkit<3.1.0,>=3.0.41->ipython>=6.1.0->ipywidgets) (0.2.13)\n",
      "Requirement already satisfied: mypy-extensions>=0.3.0 in c:\\users\\khale\\machine_learning\\.venv\\lib\\site-packages (from typing-inspect<1,>=0.4.0->dataclasses-json<0.7,>=0.5.7->langchain-community) (1.0.0)\n",
      "Requirement already satisfied: executing>=1.2.0 in c:\\users\\khale\\machine_learning\\.venv\\lib\\site-packages (from stack-data->ipython>=6.1.0->ipywidgets) (2.0.1)\n",
      "Requirement already satisfied: asttokens>=2.1.0 in c:\\users\\khale\\machine_learning\\.venv\\lib\\site-packages (from stack-data->ipython>=6.1.0->ipywidgets) (2.4.1)\n",
      "Requirement already satisfied: pure-eval in c:\\users\\khale\\machine_learning\\.venv\\lib\\site-packages (from stack-data->ipython>=6.1.0->ipywidgets) (0.2.2)\n",
      "Requirement already satisfied: six>=1.12.0 in c:\\users\\khale\\machine_learning\\.venv\\lib\\site-packages (from asttokens>=2.1.0->stack-data->ipython>=6.1.0->ipywidgets) (1.16.0)\n",
      "Downloading astor-0.8.1-py2.py3-none-any.whl (27 kB)\n",
      "Installing collected packages: astor\n",
      "Successfully installed astor-0.8.1\n",
      "Note: you may need to restart the kernel to use updated packages.\n"
     ]
    }
   ],
   "source": [
    "pip install -U langchain-community pinecone-client openai tiktoken ipywidgets -U langchain-openai astor\n"
   ]
  },
  {
   "cell_type": "code",
   "execution_count": 161,
   "metadata": {},
   "outputs": [],
   "source": [
    "from langchain_openai import OpenAIEmbeddings\n",
    "from langchain_community.vectorstores import FAISS\n",
    "from dotenv import load_dotenv\n",
    "import os\n",
    "import ast\n",
    "import astor\n",
    "import openai\n"
   ]
  },
  {
   "cell_type": "code",
   "execution_count": 151,
   "metadata": {},
   "outputs": [],
   "source": [
    "# Load the environment variables from .env file\n",
    "load_dotenv()\n",
    "OPENAI_API_KEY = os.getenv('OPENAI_API_KEY')\n",
    "\n",
    "EMBEDDINGS_SIZE_LARGE = 3072\n",
    "EMBEDDINGS_SIZE_SMALL = 1536"
   ]
  },
  {
   "cell_type": "code",
   "execution_count": 173,
   "metadata": {},
   "outputs": [],
   "source": [
    "def get_file_content(file_path):\n",
    "    with open(file_path, 'r') as file:\n",
    "        print(file.name.split('/')[-1])\n",
    "        return file.read()"
   ]
  },
  {
   "cell_type": "code",
   "execution_count": 164,
   "metadata": {},
   "outputs": [],
   "source": [
    "client = openai.Client(api_key=OPENAI_API_KEY)\n",
    "\n",
    "def summarize_file(file_path):\n",
    "    data = get_file_content(file_path)\n",
    "    completion = client.chat.completions.create(\n",
    "      model=\"gpt-4-turbo\",\n",
    "      messages=[\n",
    "          {\"role\": \"system\", \"content\": \"You are an assistant trained to summarize code files succinctly. When given a file, provide a brief summary without any introductions or additional text.\"},\n",
    "          {\"role\": \"user\", \"content\": \"Please summarize the following file:\\n\\n\" + data}\n",
    "      ]\n",
    "    )\n",
    "    \n",
    "    return completion.choices[0].message.content"
   ]
  },
  {
   "cell_type": "code",
   "execution_count": 174,
   "metadata": {},
   "outputs": [
    {
     "name": "stdout",
     "output_type": "stream",
     "text": [
      "user_router.py\n"
     ]
    }
   ],
   "source": [
    "file = get_file_content(\"./Smarderobe/server/app/routers/user_router.py\")"
   ]
  },
  {
   "cell_type": "code",
   "execution_count": 166,
   "metadata": {},
   "outputs": [
    {
     "data": {
      "text/plain": [
       "'from app.database.schemas import UserSchema, UserOutSchema, ResetPasswordSchema, ResetPasswordRequestScheam\\nfrom sqlalchemy import select, insert, delete, update, exc\\nfrom sqlalchemy.orm import Session, selectinload\\nfrom app.db_setup import get_db\\nfrom fastapi import Request, Depends, APIRouter, HTTPException, status\\nfrom app.database.models import User, Profile\\nfrom app.auth import get_password_hash, get_user_id, create_access_token,  SECRET_KEY, ALGORITHM, oauth2_scheme, credentials_exception, ACCESS_TOKEN_EXPIRE_MINUTES\\nfrom app.logging.logger import logger\\nfrom typing import Annotated\\nfrom app.send_email import  send_verification_email\\nfrom app.config import backend_base_url, frontend_base_url\\nfrom datetime import timedelta\\nfrom app.send_email import env\\nfrom fastapi.templating import Jinja2Templates\\nfrom fastapi.responses import HTMLResponse\\nfrom jose import JWTError, jwt\\n\\nrouter = APIRouter()\\n\\ntemplates = Jinja2Templates(directory=\"./app/templates\")\\n\\n@router.post(\"/\", status_code=201)\\nasync def create_user( new_user: UserSchema, db: Session = Depends(get_db)) -> UserOutSchema:\\n    try:\\n        hashed_password= get_password_hash(new_user.password)\\n        new_user.password = hashed_password\\n        created_user = User(**new_user.model_dump())\\n        db.add(created_user)\\n        db.commit()\\n        profile =  {\\n            \"user_id\": created_user.id,\\n            \"name\": f\"{created_user.first_name} {created_user.last_name}\"\\n        }\\n        created_profile = Profile(**profile)\\n        db.add(created_profile)\\n        db.commit()\\n        token_expiration_time = timedelta(minutes=5)\\n        validation_token = create_access_token(user={\"id\": created_user.id}, expires_delta=token_expiration_time)\\n        validation_url = f\"{backend_base_url}/v1/users/verification/{validation_token}\"\\n        await send_verification_email(subject=\"Verify your account\", email_to=new_user.email ,body={\\'title\\': \\'Verification\\', \\'name\\': f\"{new_user.first_name} {new_user.last_name}\", \"link\":validation_url })\\n        return created_user\\n\\n    except exc.IntegrityError as e:\\n        logger.error(e)\\n        db.rollback()  # Rollback the session to avoid transaction stuck\\n        raise HTTPException(status_code=status.HTTP_400_BAD_REQUEST, detail=\"Account with this email already exists.\")\\n\\n\\n@router.get(\"/\", status_code=200)\\ndef list_users(db: Session = Depends(get_db)):\\n    \"\"\"\\n    Fetches all users\\n    \"\"\"\\n    result = db.scalars(select(User).options(selectinload(User.profile))).all()\\n    if not result:\\n        raise HTTPException(status_code=status.HTTP_404_NOT_FOUND, detail=\"No users login credentials found\")\\n    return result\\n\\n\\n@router.get(\"/me\")\\nasync def get_user(user_id: Annotated[int, Depends(get_user_id)], db: Session=Depends(get_db)) -> UserOutSchema:\\n    user = db.scalars(select(User).where(User.id == user_id).options(selectinload(User.profile))).first()\\n    if user is None:\\n        raise HTTPException(status_code=status.HTTP_401_UNAUTHORIZED, detail=\"Unauthorized\")\\n    return user\\n\\n\\n@router.get(\"/validation\")\\ndef get_email_validation_status(user_id: Annotated[int, Depends(get_user_id)], db: Session = Depends(get_db)):\\n    query  = select(User).where(User.id == user_id)\\n    db_user = db.scalars(query).first()\\n    return {\"verified\": db_user.email_verified}\\n\\n\\n# Resend verification email\\n@router.post(\"/verification\")\\nasync def send_validation_email(user_id: Annotated[int, Depends(get_user_id)], db: Session=Depends(get_db)):\\n    db_user = db.scalars(select(User).where(User.id == user_id)).first()\\n    token_expiration_time = timedelta(minutes=ACCESS_TOKEN_EXPIRE_MINUTES)\\n    validation_token = create_access_token(user={\"id\": user_id}, expires_delta=token_expiration_time)\\n    validation_url = f\"{backend_base_url}/v1/users/verification/{validation_token}\"\\n    await send_verification_email(subject=\"Verify your account\", email_to=db_user.email ,body={\\'title\\': \\'Verification\\', \\'name\\': f\"{db_user.first_name} {db_user.last_name}\", \"link\":validation_url })\\n    return {\"message\": \"Verification email sent\"}\\n\\n\\n\\n@router.get(\"/verification/{token}\", response_class=HTMLResponse)\\ndef validate_user(token: str,request: Request, db: Session = Depends(get_db)):\\n    try:\\n        payload = jwt.decode(token, SECRET_KEY, algorithms=[ALGORITHM])\\n        user_id: int = payload.get(\"id\")\\n        query = select(User).where(User.id == user_id)\\n        db_user = db.scalars(query).first()\\n        if not db_user:\\n            raise HTTPException(status_code=404, detail=\"User not found\")\\n        db_user.email_verified = True\\n        db.commit()\\n        return templates.TemplateResponse(\\n            request=request, name=\"account_verified.html\" , context={\"message\": \"Your account has been verified.\"}\\n        )\\n    except JWTError:\\n        return templates.TemplateResponse(\\n            request=request, name=\"account_verified.html\" , context={\"message\": \"Token is not valid.\"}\\n        )\\n    except Exception:\\n        return templates.TemplateResponse(\\n            request=request, name=\"account_verified.html\" , context={\"message\": \"Sorry, Something went wrong!\"}\\n        )\\n\\n# User request to get reset password email\\n@router.post(\"/reset-password-request\")\\nasync def reset_password_request(data: ResetPasswordRequestScheam, db: Session= Depends(get_db)):\\n    db_user = db.scalars(select(User).where(User.email == data.email)).first()\\n    if db_user:\\n        token_expiration_time = timedelta(minutes=5)\\n        validation_token = create_access_token(user={\"id\": db_user.id, \"email\":db_user.email}, expires_delta=token_expiration_time)\\n        # The url of frontend reset password page\\n        pwd_reset_url = f\"{frontend_base_url}/reset-password/{validation_token}\"\\n        await send_verification_email(subject=\"Reset password\", email_to=db_user.email ,body={\\'title\\': \\'Reset your passwrod\\', \\'name\\': f\"{db_user.first_name} {db_user.last_name}\", \"link\":pwd_reset_url })\\n        return {\"message\": \"email sent\"}\\n    else:\\n        raise HTTPException(status_code= status.HTTP_400_BAD_REQUEST, detail= \"Email is not registered\")\\n\\n@router.post(\"/reset-password\")\\ndef reset_password(data: ResetPasswordSchema, token: Annotated[str, Depends(oauth2_scheme)], db: Session = Depends(get_db)):\\n    try:\\n        payload = jwt.decode(token, SECRET_KEY, algorithms=[ALGORITHM])\\n        user_id: int = payload.get(\"id\")\\n        db_user = db.scalars(select(User).where(User.id == user_id)).first()\\n        if not db_user:\\n            raise HTTPException(status_code=status.HTTP_400_BAD_REQUEST, detail= \"User does not exist\")\\n        hashed_password= get_password_hash(data.password)\\n        db_user.password = hashed_password\\n        db.add(db_user)\\n        db.commit()\\n        return {\"message\": \"user password updated\"}\\n    except JWTError:\\n        raise HTTPException(status_code=status.HTTP_401_UNAUTHORIZED, detail=\"Your session has expired, please send another request to reset your password.\")\\n\\n\\n@router.get(\"/refresh-token\")\\ndef refresh_token(user_id: Annotated[int, Depends(get_user_id)]):\\n    token_expiration_time = timedelta(minutes=5)\\n    token = create_access_token(user={\"id\": user_id}, expires_delta=token_expiration_time)\\n    return {\"token\": token}\\n\\n@router.get(\"/{user_id}\", status_code=200)\\ndef list_users(user_id: int, db: Session = Depends(get_db)):\\n    \"\"\"\\n    Fetches one user based on user_id\\n    \"\"\"\\n    result = db.scalars(select(User).where(User.id == user_id).options(selectinload(User.profile))).first()\\n    if not result:\\n        raise HTTPException(status_code=status.HTTP_404_NOT_FOUND, detail=\"No users login credentials found\")\\n    return result # Returns the password for now. Passwords needs to be hashed.\\n\\n@router.delete(\"/{users_id}\", status_code=status.HTTP_204_NO_CONTENT)\\ndef delete_users(users_id: int, db: Session = Depends(get_db)):\\n    \"\"\"\\n    Deletes a user based on an id\\n    \"\"\"\\n    query = delete(User).where(User.id == users_id)\\n    db.execute(query)\\n    db.commit()\\n    if query is None:\\n        raise HTTPException(status_code=404, detail=\"User not found\")'"
      ]
     },
     "execution_count": 166,
     "metadata": {},
     "output_type": "execute_result"
    }
   ],
   "source": [
    "file"
   ]
  },
  {
   "cell_type": "code",
   "execution_count": 169,
   "metadata": {},
   "outputs": [],
   "source": [
    "summary = summarize_file(\"./Smarderobe/server/app/routers/user_router.py\")"
   ]
  },
  {
   "cell_type": "code",
   "execution_count": 170,
   "metadata": {},
   "outputs": [
    {
     "data": {
      "text/plain": [
       "'The file defines API endpoints for a user management system using FastAPI, handling user creation, listing, validation, password reset requests, refreshing tokens, and deletion through various routes. It interacts with a database using SQLAlchemy to perform operations like adding a new user, getting user details, and verifying user emails. The endpoints use schemas for input validation, send emails for verification and password resets, and handle exceptions appropriately, providing responses based on the outcome of the operations. Additionally, token-based verification is employed for email verification and password reset functionalities. The system logs errors and uses templates for email responses.'"
      ]
     },
     "execution_count": 170,
     "metadata": {},
     "output_type": "execute_result"
    }
   ],
   "source": [
    "summary"
   ]
  },
  {
   "cell_type": "code",
   "execution_count": 138,
   "metadata": {},
   "outputs": [],
   "source": [
    "import ast\n",
    "import astor\n",
    "import os\n",
    "\n",
    "class CodeVisitor(ast.NodeVisitor):\n",
    "    def __init__(self):\n",
    "        self.code_elements = []\n",
    "\n",
    "    \n",
    "    # def visit_Import(self, node):\n",
    "    #     self.elements.append(node)  # Store the AST node directly\n",
    "\n",
    "    # def visit_ImportFrom(self, node):\n",
    "    #     self.elements.append(node)  # Store the AST node directly\n",
    "\n",
    "    # def visit_ClassDef(self, node):\n",
    "    #     self.elements.append(node)  # Store the AST node directly\n",
    "\n",
    "    # # If you want to process body items as well\n",
    "    # def visit_Assign(self, node):\n",
    "    #     self.elements.append(node)  # Store assignment nodes\n",
    "\n",
    "    # def visit_Expr(self, node):\n",
    "    #     self.elements.append(node)  # Store expression nodes\n",
    "\n",
    "    # def visit_Return(self, node):\n",
    "    #     self.elements.append(node)  # Store return nodes\n",
    "\n",
    "    # def visit_FunctionDef(self, node):\n",
    "    #     self.elements.append(node)  # Store the AST node directly\n",
    "\n",
    "    def visit_FunctionDef(self, node):\n",
    "        # Store function source code and metadata\n",
    "        self.code_elements.append({\n",
    "            \"page_content\": astor.to_source(node),\n",
    "            \"metadata\": {\n",
    "                \"type\": \"function\",\n",
    "                \"name\": node.name\n",
    "            }\n",
    "        })\n",
    "\n",
    "    def visit_ClassDef(self, node):\n",
    "        # Store the class itself\n",
    "        self.code_elements.append({\n",
    "            \"page_content\": astor.to_source(node),\n",
    "            \"metadata\": {\n",
    "                \"type\": \"class\",\n",
    "                \"name\": node.name\n",
    "            }\n",
    "        })\n",
    "        # Also visit methods within the class\n",
    "        method_visitor = CodeVisitor()\n",
    "        for n in node.body:\n",
    "            if isinstance(n, ast.FunctionDef):\n",
    "                method_visitor.visit(n)\n",
    "        self.code_elements.extend(method_visitor.code_elements)\n",
    "\n",
    "def parse_code_from_file(file_path):\n",
    "    with open(file_path, 'r', encoding='utf-8') as file:\n",
    "        source_code = file.read()\n",
    "    tree = ast.parse(source_code)\n",
    "    visitor = CodeVisitor()\n",
    "    visitor.visit(tree)\n",
    "    return [\n",
    "        {**element, \"metadata\": {**element[\"metadata\"], \"source\": os.path.normpath(file_path)}}\n",
    "        for element in visitor.code_elements\n",
    "    ]\n",
    "\n",
    "def traverse_directory(directory):\n",
    "    all_code_elements = []\n",
    "    for root, dirs, files in os.walk(directory):\n",
    "        for file in files:\n",
    "            if file.endswith('.py'):\n",
    "                file_path = os.path.join(root, file)\n",
    "                normalized_path = os.path.normpath(file_path)\n",
    "                # get summaries about the file content from chatGPT\n",
    "                file_summary =         {\n",
    "                    \"page_content\": summarize_file(file_path),\n",
    "                    \"metadata\": {\n",
    "                        \"source\": normalized_path,\n",
    "                        \"type\": \"summary\",\n",
    "                        \"name\":  normalized_path.split('\\\\')[-1]\n",
    "                    }\n",
    "                }\n",
    "                all_code_elements.append(file_summary)\n",
    "                code_elements = parse_code_from_file(file_path)\n",
    "                all_code_elements.extend(code_elements)\n",
    "    return all_code_elements\n",
    "\n",
    "# Example usage\n",
    "project_directory = \"./Smarderobe/server\"\n",
    "all_code_details = traverse_directory(project_directory)\n",
    "    "
   ]
  },
  {
   "cell_type": "code",
   "execution_count": 179,
   "metadata": {},
   "outputs": [
    {
     "name": "stdout",
     "output_type": "stream",
     "text": [
      "./Smarderobe/server ['alembic', 'app', 'static'] ['.gitignore', 'alembic.ini', 'main.py', 'requirements.txt', 'run.py']\n",
      "file summary: {'metadata': {'source': 'Smarderobe\\\\server\\\\main.py', 'type': 'summary', 'name': 'main.py'}}\n",
      "file summary: {'metadata': {'source': 'Smarderobe\\\\server\\\\run.py', 'type': 'summary', 'name': 'run.py'}}\n",
      "./Smarderobe/server\\alembic ['versions'] ['env.py', 'README', 'script.py.mako']\n",
      "file summary: {'metadata': {'source': 'Smarderobe\\\\server\\\\alembic\\\\env.py', 'type': 'summary', 'name': 'env.py'}}\n",
      "./Smarderobe/server\\alembic\\versions [] ['31ed8a88e96c_update_countries_clothing_items_tables.py', '3eab37b818e9_check.py', '5f630b6a9222_initial_migration.py', '8cd4ecbd3e80_add_color_bridge.py']\n",
      "file summary: {'metadata': {'source': 'Smarderobe\\\\server\\\\alembic\\\\versions\\\\31ed8a88e96c_update_countries_clothing_items_tables.py', 'type': 'summary', 'name': '31ed8a88e96c_update_countries_clothing_items_tables.py'}}\n",
      "file summary: {'metadata': {'source': 'Smarderobe\\\\server\\\\alembic\\\\versions\\\\3eab37b818e9_check.py', 'type': 'summary', 'name': '3eab37b818e9_check.py'}}\n",
      "file summary: {'metadata': {'source': 'Smarderobe\\\\server\\\\alembic\\\\versions\\\\5f630b6a9222_initial_migration.py', 'type': 'summary', 'name': '5f630b6a9222_initial_migration.py'}}\n",
      "file summary: {'metadata': {'source': 'Smarderobe\\\\server\\\\alembic\\\\versions\\\\8cd4ecbd3e80_add_color_bridge.py', 'type': 'summary', 'name': '8cd4ecbd3e80_add_color_bridge.py'}}\n",
      "./Smarderobe/server\\app ['database', 'dependencies', 'logging', 'middlewares', 'routers', 'templates'] ['auth.py', 'config.py', 'db_setup.py', 'send_email.py', 'startup_script.py', 'v1_routers.py', '__init__.py']\n",
      "file summary: {'metadata': {'source': 'Smarderobe\\\\server\\\\app\\\\auth.py', 'type': 'summary', 'name': 'auth.py'}}\n",
      "file summary: {'metadata': {'source': 'Smarderobe\\\\server\\\\app\\\\config.py', 'type': 'summary', 'name': 'config.py'}}\n",
      "file summary: {'metadata': {'source': 'Smarderobe\\\\server\\\\app\\\\db_setup.py', 'type': 'summary', 'name': 'db_setup.py'}}\n",
      "file summary: {'metadata': {'source': 'Smarderobe\\\\server\\\\app\\\\send_email.py', 'type': 'summary', 'name': 'send_email.py'}}\n",
      "file summary: {'metadata': {'source': 'Smarderobe\\\\server\\\\app\\\\startup_script.py', 'type': 'summary', 'name': 'startup_script.py'}}\n",
      "file summary: {'metadata': {'source': 'Smarderobe\\\\server\\\\app\\\\v1_routers.py', 'type': 'summary', 'name': 'v1_routers.py'}}\n",
      "file summary: {'metadata': {'source': 'Smarderobe\\\\server\\\\app\\\\__init__.py', 'type': 'summary', 'name': '__init__.py'}}\n",
      "./Smarderobe/server\\app\\database ['models', 'schemas'] ['__init__.py']\n",
      "file summary: {'metadata': {'source': 'Smarderobe\\\\server\\\\app\\\\database\\\\__init__.py', 'type': 'summary', 'name': '__init__.py'}}\n",
      "./Smarderobe/server\\app\\database\\models [] ['address.py', 'base_model.py', 'body_section.py', 'brand.py', 'category.py', 'clothing_item.py', 'clothing_item_category.py', 'clothing_item_color.py', 'clothing_item_season.py', 'color.py', 'country.py', 'gender.py', 'item_images.py', 'profile.py', 'season.py', 'type.py', 'user.py', '__init__.py']\n",
      "file summary: {'metadata': {'source': 'Smarderobe\\\\server\\\\app\\\\database\\\\models\\\\address.py', 'type': 'summary', 'name': 'address.py'}}\n",
      "file summary: {'metadata': {'source': 'Smarderobe\\\\server\\\\app\\\\database\\\\models\\\\base_model.py', 'type': 'summary', 'name': 'base_model.py'}}\n",
      "file summary: {'metadata': {'source': 'Smarderobe\\\\server\\\\app\\\\database\\\\models\\\\body_section.py', 'type': 'summary', 'name': 'body_section.py'}}\n",
      "file summary: {'metadata': {'source': 'Smarderobe\\\\server\\\\app\\\\database\\\\models\\\\brand.py', 'type': 'summary', 'name': 'brand.py'}}\n",
      "file summary: {'metadata': {'source': 'Smarderobe\\\\server\\\\app\\\\database\\\\models\\\\category.py', 'type': 'summary', 'name': 'category.py'}}\n",
      "file summary: {'metadata': {'source': 'Smarderobe\\\\server\\\\app\\\\database\\\\models\\\\clothing_item.py', 'type': 'summary', 'name': 'clothing_item.py'}}\n",
      "file summary: {'metadata': {'source': 'Smarderobe\\\\server\\\\app\\\\database\\\\models\\\\clothing_item_category.py', 'type': 'summary', 'name': 'clothing_item_category.py'}}\n",
      "file summary: {'metadata': {'source': 'Smarderobe\\\\server\\\\app\\\\database\\\\models\\\\clothing_item_color.py', 'type': 'summary', 'name': 'clothing_item_color.py'}}\n",
      "file summary: {'metadata': {'source': 'Smarderobe\\\\server\\\\app\\\\database\\\\models\\\\clothing_item_season.py', 'type': 'summary', 'name': 'clothing_item_season.py'}}\n",
      "file summary: {'metadata': {'source': 'Smarderobe\\\\server\\\\app\\\\database\\\\models\\\\color.py', 'type': 'summary', 'name': 'color.py'}}\n",
      "file summary: {'metadata': {'source': 'Smarderobe\\\\server\\\\app\\\\database\\\\models\\\\country.py', 'type': 'summary', 'name': 'country.py'}}\n",
      "file summary: {'metadata': {'source': 'Smarderobe\\\\server\\\\app\\\\database\\\\models\\\\gender.py', 'type': 'summary', 'name': 'gender.py'}}\n",
      "file summary: {'metadata': {'source': 'Smarderobe\\\\server\\\\app\\\\database\\\\models\\\\item_images.py', 'type': 'summary', 'name': 'item_images.py'}}\n",
      "file summary: {'metadata': {'source': 'Smarderobe\\\\server\\\\app\\\\database\\\\models\\\\profile.py', 'type': 'summary', 'name': 'profile.py'}}\n",
      "file summary: {'metadata': {'source': 'Smarderobe\\\\server\\\\app\\\\database\\\\models\\\\season.py', 'type': 'summary', 'name': 'season.py'}}\n",
      "file summary: {'metadata': {'source': 'Smarderobe\\\\server\\\\app\\\\database\\\\models\\\\type.py', 'type': 'summary', 'name': 'type.py'}}\n",
      "file summary: {'metadata': {'source': 'Smarderobe\\\\server\\\\app\\\\database\\\\models\\\\user.py', 'type': 'summary', 'name': 'user.py'}}\n",
      "file summary: {'metadata': {'source': 'Smarderobe\\\\server\\\\app\\\\database\\\\models\\\\__init__.py', 'type': 'summary', 'name': '__init__.py'}}\n",
      "./Smarderobe/server\\app\\database\\schemas [] ['address_schema.py', 'body_section_schema.py', 'brand_schema.py', 'category_schema.py', 'clothing_item_schema.py', 'country_schema.py', 'gender_schema.py', 'images_schema.py', 'profile_schema.py', 'season_schema.py', 'user_schema.py', '__init__.py']\n",
      "file summary: {'metadata': {'source': 'Smarderobe\\\\server\\\\app\\\\database\\\\schemas\\\\address_schema.py', 'type': 'summary', 'name': 'address_schema.py'}}\n",
      "file summary: {'metadata': {'source': 'Smarderobe\\\\server\\\\app\\\\database\\\\schemas\\\\body_section_schema.py', 'type': 'summary', 'name': 'body_section_schema.py'}}\n",
      "file summary: {'metadata': {'source': 'Smarderobe\\\\server\\\\app\\\\database\\\\schemas\\\\brand_schema.py', 'type': 'summary', 'name': 'brand_schema.py'}}\n",
      "file summary: {'metadata': {'source': 'Smarderobe\\\\server\\\\app\\\\database\\\\schemas\\\\category_schema.py', 'type': 'summary', 'name': 'category_schema.py'}}\n",
      "file summary: {'metadata': {'source': 'Smarderobe\\\\server\\\\app\\\\database\\\\schemas\\\\clothing_item_schema.py', 'type': 'summary', 'name': 'clothing_item_schema.py'}}\n",
      "file summary: {'metadata': {'source': 'Smarderobe\\\\server\\\\app\\\\database\\\\schemas\\\\country_schema.py', 'type': 'summary', 'name': 'country_schema.py'}}\n",
      "file summary: {'metadata': {'source': 'Smarderobe\\\\server\\\\app\\\\database\\\\schemas\\\\gender_schema.py', 'type': 'summary', 'name': 'gender_schema.py'}}\n",
      "file summary: {'metadata': {'source': 'Smarderobe\\\\server\\\\app\\\\database\\\\schemas\\\\images_schema.py', 'type': 'summary', 'name': 'images_schema.py'}}\n",
      "file summary: {'metadata': {'source': 'Smarderobe\\\\server\\\\app\\\\database\\\\schemas\\\\profile_schema.py', 'type': 'summary', 'name': 'profile_schema.py'}}\n",
      "file summary: {'metadata': {'source': 'Smarderobe\\\\server\\\\app\\\\database\\\\schemas\\\\season_schema.py', 'type': 'summary', 'name': 'season_schema.py'}}\n",
      "file summary: {'metadata': {'source': 'Smarderobe\\\\server\\\\app\\\\database\\\\schemas\\\\user_schema.py', 'type': 'summary', 'name': 'user_schema.py'}}\n",
      "file summary: {'metadata': {'source': 'Smarderobe\\\\server\\\\app\\\\database\\\\schemas\\\\__init__.py', 'type': 'summary', 'name': '__init__.py'}}\n",
      "./Smarderobe/server\\app\\dependencies [] ['validate_token.py']\n",
      "file summary: {'metadata': {'source': 'Smarderobe\\\\server\\\\app\\\\dependencies\\\\validate_token.py', 'type': 'summary', 'name': 'validate_token.py'}}\n",
      "./Smarderobe/server\\app\\logging [] ['logger.py']\n",
      "file summary: {'metadata': {'source': 'Smarderobe\\\\server\\\\app\\\\logging\\\\logger.py', 'type': 'summary', 'name': 'logger.py'}}\n",
      "./Smarderobe/server\\app\\middlewares [] ['logger.py', '__init__.py']\n",
      "file summary: {'metadata': {'source': 'Smarderobe\\\\server\\\\app\\\\middlewares\\\\logger.py', 'type': 'summary', 'name': 'logger.py'}}\n",
      "file summary: {'metadata': {'source': 'Smarderobe\\\\server\\\\app\\\\middlewares\\\\__init__.py', 'type': 'summary', 'name': '__init__.py'}}\n",
      "./Smarderobe/server\\app\\routers [] ['address_router.py', 'body_section_router.py', 'brand_router.py', 'category_router.py', 'clothing_analyze.py', 'clothing_item_router.py', 'country_router.py', 'data.json', 'gender_router.py', 'image_router.py', 'login_router.py', 'profile_router.py', 'season_router.py', 'type_router.py', 'user_router.py', '__init__.py']\n",
      "file summary: {'metadata': {'source': 'Smarderobe\\\\server\\\\app\\\\routers\\\\address_router.py', 'type': 'summary', 'name': 'address_router.py'}}\n",
      "file summary: {'metadata': {'source': 'Smarderobe\\\\server\\\\app\\\\routers\\\\body_section_router.py', 'type': 'summary', 'name': 'body_section_router.py'}}\n",
      "file summary: {'metadata': {'source': 'Smarderobe\\\\server\\\\app\\\\routers\\\\brand_router.py', 'type': 'summary', 'name': 'brand_router.py'}}\n",
      "file summary: {'metadata': {'source': 'Smarderobe\\\\server\\\\app\\\\routers\\\\category_router.py', 'type': 'summary', 'name': 'category_router.py'}}\n",
      "file summary: {'metadata': {'source': 'Smarderobe\\\\server\\\\app\\\\routers\\\\clothing_analyze.py', 'type': 'summary', 'name': 'clothing_analyze.py'}}\n",
      "file summary: {'metadata': {'source': 'Smarderobe\\\\server\\\\app\\\\routers\\\\clothing_item_router.py', 'type': 'summary', 'name': 'clothing_item_router.py'}}\n",
      "file summary: {'metadata': {'source': 'Smarderobe\\\\server\\\\app\\\\routers\\\\country_router.py', 'type': 'summary', 'name': 'country_router.py'}}\n",
      "file summary: {'metadata': {'source': 'Smarderobe\\\\server\\\\app\\\\routers\\\\gender_router.py', 'type': 'summary', 'name': 'gender_router.py'}}\n",
      "file summary: {'metadata': {'source': 'Smarderobe\\\\server\\\\app\\\\routers\\\\image_router.py', 'type': 'summary', 'name': 'image_router.py'}}\n",
      "file summary: {'metadata': {'source': 'Smarderobe\\\\server\\\\app\\\\routers\\\\login_router.py', 'type': 'summary', 'name': 'login_router.py'}}\n",
      "file summary: {'metadata': {'source': 'Smarderobe\\\\server\\\\app\\\\routers\\\\profile_router.py', 'type': 'summary', 'name': 'profile_router.py'}}\n",
      "file summary: {'metadata': {'source': 'Smarderobe\\\\server\\\\app\\\\routers\\\\season_router.py', 'type': 'summary', 'name': 'season_router.py'}}\n",
      "file summary: {'metadata': {'source': 'Smarderobe\\\\server\\\\app\\\\routers\\\\type_router.py', 'type': 'summary', 'name': 'type_router.py'}}\n",
      "file summary: {'metadata': {'source': 'Smarderobe\\\\server\\\\app\\\\routers\\\\user_router.py', 'type': 'summary', 'name': 'user_router.py'}}\n",
      "file summary: {'metadata': {'source': 'Smarderobe\\\\server\\\\app\\\\routers\\\\__init__.py', 'type': 'summary', 'name': '__init__.py'}}\n",
      "./Smarderobe/server\\app\\templates [] ['account_verified.html', 'email.html', 'verify_account.html']\n",
      "./Smarderobe/server\\static ['media'] []\n",
      "./Smarderobe/server\\static\\media ['images'] ['.DS_Store']\n",
      "./Smarderobe/server\\static\\media\\images ['profiles'] ['.DS_Store', '0922e296-c9af-4c41-86b4-789851b65fe6.jpg', '0c183080-5af8-4f4e-b44b-fdc956fe2442.webp', '0d8dd3de-2232-4495-aa78-a75ab6cdc534.jpg', '0e18e8ca-7666-426e-87a6-969741416734.webp', '14d3399b-f40a-4bc4-a32b-3222384e0a3b.jpeg', '26fb8d4e-4af7-4127-98d4-014c83140c99.jpeg', '29e89345-f478-4cdc-9a2f-6f44564059b2.WEBP', '2c40b812-7b98-436c-ade9-9bf8dda09888.jpg', '3836c3ee-fa6f-47f3-a969-8e11aace53b5.jpeg', '3a031de7-9ee3-4867-92ce-158102ef78ec.jpg', '3a96697b-15ff-4f70-850b-74db795b808b.jpeg', '3bbea572-eb55-4802-9d3f-2d251cf0887a.jpeg', '3c6f2c0d-8c43-434c-84c6-36eaba6a6206.jpeg', '4048382a-9c19-4253-9e6b-cda2347c20e7.webp', '42c26d72-f421-449e-bb42-86c24c30b783.jpeg', '42cacaf4-5880-4ecb-a258-884328b7aac3.jpeg', '45aeca7e-e56a-4082-90cf-40eaaa9170e8.jpeg', '46b58ac7-e9ec-4082-afb0-03bdc40781c6.WEBP', '47468562-9d9a-44c0-82f0-2c567915ac56.jpg', '4951037f-ab58-443a-ba69-28a0c5002439.jpeg', '4d42b42d-18ad-4ca6-88de-67bc6c6e5bf5.jpg', '50498cb3-5d46-4ed8-ab56-dd2f786c1281.webp', '511d2802-8ca2-4b4a-bfc9-f4994496eb4e.jpg', '52a11777-e397-474a-824c-d040a9fe4145.jpeg', '54d88e00-9f03-473f-8c21-b7df28adf0f3.WEBP', '56254caf-77e2-4368-8f93-c25b93cf085b.webp', '5cc496ea-9f71-47a2-8ebf-75972c61779e.WEBP', '5d76d6c4-2e4b-4371-9c29-95d1dca63ec8.jpeg', '5dc5e65b-5aad-489a-b4e0-6c0e3cc08467.jpeg', '5e91bf26-212d-4aed-8499-81de16d7bb1f.WEBP', '6127fa25-36b8-4705-b028-7d7b7350e858.jpeg', '61503100-b6a0-4dcc-bc60-c7000df8c0a0.WEBP', '618ff1b6-622a-442d-8b5a-c81ea3206d48.WEBP', '6ab7a33d-d485-4a27-a698-a564c73e63a9.jpeg', '74833350-04ee-4e44-a616-57a9f2860a7f.jpeg', '74bdda44-a123-4739-858c-070846fb32cc.jpeg', '761e84aa-8fea-4630-b207-88b8ed06699b.WEBP', '7bedf669-d595-4029-821b-e1c4e4b0c78d.webp', '7e498c85-750b-49cf-8104-c3e5bbc2e6ef.jpg', '83ef0196-76b2-4ca8-8a5c-efd5ab7bdaff.webp', '865adebd-fb77-483d-9d9d-bd320b99ac43.jpg', '884163f9-5449-45fb-a6cb-e1ed3a6bd9f3.jpeg', '890e9cfa-facc-4034-abe4-8c6d5cda8fc4.jpg', '8b93fd6a-f991-45ad-8f10-ee915de5f0a1.jpeg', '8cef8b76-a756-4de1-8bae-c004c5d6a617.WEBP', '92b99e54-8575-4fc3-90c5-77d2cd9c9428.jpg', '933318f2-af55-4204-b85b-19ae5f46cf61.jpeg', '960f076e-f8e6-4b0f-ac12-82ad36e11f09.WEBP', '96cf85b6-d086-4895-a7db-27b9dff23b09.jpeg', '97b00d34-66fa-484b-93a5-60b9949930e8.WEBP', '9947cb35-9bd3-4fc8-b6b2-679c78cb6d26.jpeg', '9cc82b9e-e59c-43aa-82e9-c103f45542ba.webp', '9de2440e-85a2-4dbf-8708-2ef724e04305.jpeg', '9f03df6b-879f-4445-8155-0c665531276d.jpeg', 'a3ebe393-1e4b-4957-bc1b-8a893b8b392c.WEBP', 'a5c1a110-03d1-41f6-a2fa-c988637cfd93.jpg', 'a5e3cfe5-b10e-4bd4-8390-12df9afc717a.WEBP', 'a8d1d917-440d-4a36-a441-933ac8c8e677.jpeg', 'a9b5eecd-80fd-4ceb-a630-f65318652ae0.jpeg', 'ae038464-60e2-4429-9198-84b3701d905d.WEBP', 'b0651975-eb1e-4440-849c-7c7021ea0c10.jpeg', 'b74709ca-ab1b-4d36-9842-f26360677f93.WEBP', 'bd0c8c35-7825-4731-b978-c5ae27d83f5b.jpeg', 'c13485a7-7765-4646-baa9-4ae87255c53a.webp', 'c1af44ca-5ec1-45ab-9b80-585d5b4dab2f.jpeg', 'c23d2d00-b3cf-480c-af06-0f1662c58f23.jpg', 'c605f481-3d4c-42ac-ba05-db42e3bebbe4.jpeg', 'cbb30de9-d70f-494f-9896-a4102dc72a20.jpg', 'ce0e4bd0-6439-4246-ac8a-f02fa76cba45.WEBP', 'cee6cf80-b620-4ebb-8074-aa4f06ed6093.WEBP', 'd068d80a-5818-4f74-9161-3931e6ee1b39.webp', 'd6793025-ba62-4e33-9938-31d9a7501e56.jpeg', 'd85edb86-2935-4276-891a-a5114078be17.webp', 'dff2d0e5-9218-460b-8462-a4594d7fca21.WEBP', 'e14d7126-d3f4-4511-877d-8ed23265b67e.jpeg', 'e9672fe2-f734-4310-9d40-a1d221a36f01.webp', 'eeb8bfe3-cc6d-40a5-92a5-eb32bb97a6a9.jpeg', 'f1015fcd-5813-4ed0-977d-b23707935b50.jpeg', 'f292c9f6-d085-4e98-b507-9f418299d81c.WEBP', 'f36610f9-0db2-4276-85f4-08cd07b0b14f.jpeg', 'f6830922-0501-4230-8e8a-058c18b0c377.jpg', 'f703b503-8452-4794-8013-8508e7a209a3.jpeg', 'f8ad8181-08b1-40d8-80de-c3e2239653a9.jpeg', 'faec515d-9448-4ced-a364-fb1a2ba85144.webp', 'profiles65df3ae3-b485-44de-ac67-075c5ac78f0f.webp']\n",
      "./Smarderobe/server\\static\\media\\images\\profiles [] ['.DS_Store', '03ac3982-91c1-47cc-a9f3-719097eaff85.webp', '1d1f7224-9e28-415a-86a3-a9053e7e6286.webp', '6de1395a-3793-4492-adf5-45fc25e2b1c5.webp', '7ad5b7f8-2736-4e60-b800-aea9244ab882.webp', '801e6fc5-5f51-46e9-9a80-fb6888a3586b.webp', '80fe0461-39a4-4064-8557-abf51571cb01.webp', '88c28bf1-7f1a-46e2-bf33-be07e4ce0c10.webp', '913c150e-ffcd-41a8-9b04-921aef0d7ff5.webp', '9f30b8a6-7a6c-4dfb-970f-8f8066b03af5.webp', 'a445705c-9798-4535-aea2-8e59973ae743.webp', 'd2ab0434-4c7c-4027-9ac9-3a2f67b2abe5.webp', 'e796672c-2df5-4ce8-9ef7-57ec44c261a0.webp']\n"
     ]
    }
   ],
   "source": [
    "def traverse_directory(directory):\n",
    "    for root, dirs, files in os.walk(directory):\n",
    "        print(root, dirs, files)\n",
    "        for file in files:\n",
    "            if file.endswith('.py'):\n",
    "                file_path = os.path.join(root, file)\n",
    "                # get summaries about the file content from chatGPT\n",
    "                file_summary =         {\n",
    "                    # \"page_content\": summarize_file(file_path),\n",
    "                    \"metadata\": {\n",
    "                        \"source\": os.path.normpath(file_path),\n",
    "                        \"type\": \"summary\",\n",
    "                        \"name\":  os.path.normpath(file_path).split('\\\\')[-1]\n",
    "                    }\n",
    "                }\n",
    "                print(f\"file summary: {file_summary}\")\n",
    "                code_elements = parse_code_from_file(file_path)\n",
    "\n",
    "\n",
    "# Example usage\n",
    "traverse_directory(\"./Smarderobe/server\")\n"
   ]
  },
  {
   "cell_type": "code",
   "execution_count": null,
   "metadata": {},
   "outputs": [],
   "source": [
    "def get_gpt_files_descriptions():\n",
    "    pass"
   ]
  },
  {
   "cell_type": "code",
   "execution_count": null,
   "metadata": {},
   "outputs": [],
   "source": [
    "all_files_descriptions = get_gpt_files_descriptions()"
   ]
  },
  {
   "cell_type": "code",
   "execution_count": 129,
   "metadata": {},
   "outputs": [],
   "source": [
    "embeddings = OpenAIEmbeddings( model =\"text-embedding-3-large\", openai_api_key=OPENAI_API_KEY)\n"
   ]
  },
  {
   "cell_type": "code",
   "execution_count": 130,
   "metadata": {},
   "outputs": [],
   "source": [
    "# Function to initialize a FAISS vector store from documents\n",
    "def create_faiss_library(documents):\n",
    "    texts = [d['page_content'] for d in documents]\n",
    "    metadatas = [d['metadata'] for d in documents]\n",
    "    # Adjust the following line if the FAISS library API differs\n",
    "    return FAISS.from_texts(texts,  metadatas=metadatas, embedding=embeddings)"
   ]
  },
  {
   "cell_type": "code",
   "execution_count": 139,
   "metadata": {},
   "outputs": [],
   "source": [
    "library = create_faiss_library(all_code_details)\n"
   ]
  },
  {
   "cell_type": "code",
   "execution_count": 147,
   "metadata": {},
   "outputs": [],
   "source": [
    "query = \"user class\""
   ]
  },
  {
   "cell_type": "code",
   "execution_count": 148,
   "metadata": {},
   "outputs": [],
   "source": [
    "query_answer = library.similarity_search(query, 5)"
   ]
  },
  {
   "cell_type": "code",
   "execution_count": 142,
   "metadata": {},
   "outputs": [
    {
     "name": "stdout",
     "output_type": "stream",
     "text": [
      "page_content=\"@router.get('/verification/{token}', response_class=HTMLResponse)\\ndef validate_user(token: str, request: Request, db: Session=Depends(get_db)):\\n    try:\\n        payload = jwt.decode(token, SECRET_KEY, algorithms=[ALGORITHM])\\n        user_id: int = payload.get('id')\\n        query = select(User).where(User.id == user_id)\\n        db_user = db.scalars(query).first()\\n        if not db_user:\\n            raise HTTPException(status_code=404, detail='User not found')\\n        db_user.email_verified = True\\n        db.commit()\\n        return templates.TemplateResponse(request=request, name=\\n            'account_verified.html', context={'message':\\n            'Your account has been verified.'})\\n    except JWTError:\\n        return templates.TemplateResponse(request=request, name=\\n            'account_verified.html', context={'message': 'Token is not valid.'}\\n            )\\n    except Exception:\\n        return templates.TemplateResponse(request=request, name=\\n            'account_verified.html', context={'message':\\n            'Sorry, Something went wrong!'})\\n\" metadata={'type': 'function', 'name': 'validate_user', 'source': 'Smarderobe\\\\server\\\\app\\\\routers\\\\user_router.py'}\n"
     ]
    }
   ],
   "source": [
    "print(query_answer[0])"
   ]
  },
  {
   "cell_type": "code",
   "execution_count": 149,
   "metadata": {},
   "outputs": [
    {
     "name": "stdout",
     "output_type": "stream",
     "text": [
      "class UserOutSchema(BaseModel):\n",
      "    first_name: str = Field(..., min_length=1, max_length=100)\n",
      "    last_name: str = Field(..., min_length=1, max_length=100)\n",
      "    email: EmailStr = Field(..., min_length=1, max_length=50, description=\n",
      "        'Email has to be Unique and is required.')\n",
      "    email_verified: bool\n",
      "    is_active: bool\n",
      "    id: int\n",
      "    profile: Optional[ProfileSchema]\n",
      "\n"
     ]
    }
   ],
   "source": [
    "print(query_answer[1].page_content)"
   ]
  },
  {
   "cell_type": "code",
   "execution_count": 150,
   "metadata": {},
   "outputs": [
    {
     "name": "stdout",
     "output_type": "stream",
     "text": [
      "{'type': 'class', 'name': 'User', 'source': 'Smarderobe\\\\server\\\\app\\\\database\\\\models\\\\user.py'}\n",
      "Smarderobe\\server\\app\\database\\models\\user.py\n",
      "User\n",
      "\n",
      "\n",
      "{'type': 'class', 'name': 'UserOutSchema', 'source': 'Smarderobe\\\\server\\\\app\\\\database\\\\schemas\\\\user_schema.py'}\n",
      "Smarderobe\\server\\app\\database\\schemas\\user_schema.py\n",
      "UserOutSchema\n",
      "\n",
      "\n",
      "{'type': 'class', 'name': 'UserLoginSchema', 'source': 'Smarderobe\\\\server\\\\app\\\\database\\\\schemas\\\\user_schema.py'}\n",
      "Smarderobe\\server\\app\\database\\schemas\\user_schema.py\n",
      "UserLoginSchema\n",
      "\n",
      "\n",
      "{'type': 'function', 'name': 'validate_user', 'source': 'Smarderobe\\\\server\\\\app\\\\routers\\\\user_router.py'}\n",
      "Smarderobe\\server\\app\\routers\\user_router.py\n",
      "validate_user\n",
      "\n",
      "\n",
      "{'type': 'class', 'name': 'UserSchema', 'source': 'Smarderobe\\\\server\\\\app\\\\database\\\\schemas\\\\user_schema.py'}\n",
      "Smarderobe\\server\\app\\database\\schemas\\user_schema.py\n",
      "UserSchema\n",
      "\n",
      "\n"
     ]
    }
   ],
   "source": [
    "for answer in query_answer:\n",
    "    print(answer.metadata)\n",
    "    print(answer.metadata['source'])\n",
    "    print(answer.metadata['name'])\n",
    "    print(\"\\n\")"
   ]
  },
  {
   "cell_type": "code",
   "execution_count": 152,
   "metadata": {},
   "outputs": [],
   "source": [
    "query2 = \"upload image\""
   ]
  },
  {
   "cell_type": "code",
   "execution_count": 153,
   "metadata": {},
   "outputs": [],
   "source": [
    "query2_answer = library.similarity_search(query2, 2)"
   ]
  },
  {
   "cell_type": "code",
   "execution_count": 154,
   "metadata": {},
   "outputs": [
    {
     "name": "stdout",
     "output_type": "stream",
     "text": [
      "Smarderobe\\server\\app\\routers\\clothing_item_router.py\n",
      "def upload_image(file: UploadFile, IMAGEDIR: str) ->str:\n",
      "    filename = f\"{uuid4()}.{file.filename.split('.')[-1]}\"\n",
      "    file_path = os.path.join(IMAGEDIR, filename)\n",
      "    with open(file_path, 'wb') as f:\n",
      "        for chunk in file.file:\n",
      "            f.write(chunk)\n",
      "    return filename\n",
      "\n"
     ]
    }
   ],
   "source": [
    "print(query2_answer[0].metadata['source'])\n",
    "print(query2_answer[0].page_content)"
   ]
  },
  {
   "cell_type": "code",
   "execution_count": 155,
   "metadata": {},
   "outputs": [
    {
     "name": "stdout",
     "output_type": "stream",
     "text": [
      "Smarderobe\\server\\app\\routers\\clothing_item_router.py\n",
      "def upload_image(file: UploadFile, IMAGEDIR: str) ->str:\n",
      "    filename = f\"{uuid4()}.{file.filename.split('.')[-1]}\"\n",
      "    file_path = os.path.join(IMAGEDIR, filename)\n",
      "    with open(file_path, 'wb') as f:\n",
      "        for chunk in file.file:\n",
      "            f.write(chunk)\n",
      "    return filename\n",
      "\n",
      "\n",
      "\n",
      "Smarderobe\\server\\app\\routers\\clothing_item_router.py\n",
      "@router.post('/', status_code=201)\n",
      "def add_clothing_item(user_id: Annotated[int, Depends(get_user_id)], name:\n",
      "    str=Form(...), description: str=Form(None), colours: str=Form(...),\n",
      "    size: str=Form(...), type: str=Form(None), brand_id: int=Form(...),\n",
      "    file: UploadFile=File(...), db: Session=Depends(get_db)):\n",
      "    if file.filename.split('.')[-1].lower() not in ['jpg', 'jpeg', 'bmp',\n",
      "        'webp', 'png']:\n",
      "        raise HTTPException(status_code=400, detail=\n",
      "            'Image extension is not supported')\n",
      "    type_id = db.scalars(Select(Type.id).where(Type.name == type)).first()\n",
      "    clothing_item_dict = {'name': name, 'description': description, 'size':\n",
      "        size, 'user_id': user_id, 'type_id': type_id, 'brand_id': brand_id}\n",
      "    db_clothing_item = ClothingItem(**clothing_item_dict)\n",
      "    db.add(db_clothing_item)\n",
      "    db.flush()\n",
      "    image_filename = upload_image(file, IMAGEDIR)\n",
      "    db_item_image = ItemImage(url=f'{image_filename}', clothing_item=\n",
      "        db_clothing_item)\n",
      "    db.add(db_item_image)\n",
      "    colors_list = [color_name.strip().lower() for color_name in colours.\n",
      "        split(',')]\n",
      "    for color_name in colors_list:\n",
      "        color = db.query(Color).filter(Color.name == color_name).first()\n",
      "        if color:\n",
      "            db.add(ClothingItemColor(clothing_item_id=db_clothing_item.id,\n",
      "                color_id=color.id))\n",
      "        else:\n",
      "            db.rollback()\n",
      "            raise HTTPException(status_code=400, detail=\n",
      "                f\"Color '{color_name}' does not exist in the database\")\n",
      "    db.commit()\n",
      "    db.refresh(db_clothing_item)\n",
      "    db.refresh(db_item_image)\n",
      "    return {'clothing_item_id': db_clothing_item.id, 'clothing_item_name':\n",
      "        db_clothing_item.name, 'image_url': db_item_image.url}\n",
      "\n",
      "\n",
      "\n"
     ]
    }
   ],
   "source": [
    "for answer in query2_answer:\n",
    "    print(answer.metadata[\"source\"])\n",
    "    print(answer.page_content)\n",
    "    print(\"\\n\")"
   ]
  },
  {
   "cell_type": "code",
   "execution_count": 66,
   "metadata": {},
   "outputs": [
    {
     "name": "stdout",
     "output_type": "stream",
     "text": [
      "Smarderobe\\server\\app\\routers\\clothing_item_router.py\n",
      "def list_clothing_items(db): Expression: Constant(value='\\n    Get all clothing items\\n    ') Assign: Name(id='result', ctx=Store()) = Call(func=Attribute(value=Call(func=Attribute(value=Name(id='db', ctx=Load()), attr='scalars', ctx=Load()), args=[Call(func=Attribute(value=Call(func=Name(id='Select', ctx=Load()), args=[Name(id='ClothingItem', ctx=Load())], keywords=[]), attr='options', ctx=Load()), args=[Call(func=Name(id='selectinload', ctx=Load()), args=[Attribute(value=Name(id='ClothingItem', ctx=Load()), attr='item_images', ctx=Load())], keywords=[])], keywords=[])], keywords=[]), attr='all', ctx=Load()), args=[], keywords=[]) If Return: Name(id='result', ctx=Load()) def list_clothing_items(clothing_id, db): Expression: Constant(value='\\n    Get one clothing item based on its id\\n    ') Assign: Name(id='result', ctx=Store()) = Call(func=Attribute(value=Call(func=Attribute(value=Name(id='db', ctx=Load()), attr='scalars', ctx=Load()), args=[Call(func=Attribute(value=Call(func=Attribute(value=Call(func=Name(id='Select', ctx=Load()), args=[Name(id='ClothingItem', ctx=Load())], keywords=[]), attr='where', ctx=Load()), args=[Compare(left=Attribute(value=Name(id='ClothingItem', ctx=Load()), attr='id', ctx=Load()), ops=[Eq()], comparators=[Name(id='clothing_id', ctx=Load())])], keywords=[]), attr='options', ctx=Load()), args=[Call(func=Name(id='selectinload', ctx=Load()), args=[Attribute(value=Name(id='ClothingItem', ctx=Load()), attr='item_images', ctx=Load())], keywords=[])], keywords=[])], keywords=[]), attr='first', ctx=Load()), args=[], keywords=[]) If Return: Name(id='result', ctx=Load()) def get_clothing_item_by_image_url(image_url, user_id, db): Expression: Constant(value='\\n    Get one clothing item based on its image URL\\n    ') Assign: Name(id='query', ctx=Store()) = Call(func=Attribute(value=Call(func=Attribute(value=Call(func=Attribute(value=Call(func=Attribute(value=Call(func=Attribute(value=Call(func=Name(id='Select', ctx=Load()), args=[Name(id='ClothingItem', ctx=Load())], keywords=[]), attr='join', ctx=Load()), args=[Attribute(value=Name(id='ClothingItem', ctx=Load()), attr='item_images', ctx=Load())], keywords=[]), attr='where', ctx=Load()), args=[Compare(left=Attribute(value=Name(id='ItemImage', ctx=Load()), attr='url', ctx=Load()), ops=[Eq()], comparators=[Name(id='image_url', ctx=Load())])], keywords=[]), attr='join', ctx=Load()), args=[Attribute(value=Name(id='ClothingItem', ctx=Load()), attr='colors', ctx=Load())], keywords=[]), attr='join', ctx=Load()), args=[Attribute(value=Name(id='ClothingItemColor', ctx=Load()), attr='color', ctx=Load())], keywords=[]), attr='options', ctx=Load()), args=[Call(func=Attribute(value=Call(func=Name(id='selectinload', ctx=Load()), args=[Attribute(value=Name(id='ClothingItem', ctx=Load()), attr='colors', ctx=Load())], keywords=[]), attr='selectinload', ctx=Load()), args=[Attribute(value=Name(id='ClothingItemColor', ctx=Load()), attr='color', ctx=Load())], keywords=[]), Call(func=Name(id='selectinload', ctx=Load()), args=[Attribute(value=Name(id='ClothingItem', ctx=Load()), attr='type', ctx=Load())], keywords=[])], keywords=[]) Assign: Name(id='result', ctx=Store()) = Call(func=Attribute(value=Call(func=Attribute(value=Name(id='db', ctx=Load()), attr='scalars', ctx=Load()), args=[Name(id='query', ctx=Load())], keywords=[]), attr='first', ctx=Load()), args=[], keywords=[]) If Return: Name(id='result', ctx=Load()) def delete_clothing_item(clothing_id, db): Expression: Constant(value='\\n    Deletes a clothing based on an id\\n    ') Assign: Name(id='db_clothing', ctx=Store()) = Call(func=Attribute(value=Call(func=Attribute(value=Name(id='db', ctx=Load()), attr='scalars', ctx=Load()), args=[Call(func=Attribute(value=Call(func=Name(id='Select', ctx=Load()), args=[Name(id='ClothingItem', ctx=Load())], keywords=[]), attr='where', ctx=Load()), args=[Compare(left=Attribute(value=Name(id='ClothingItem', ctx=Load()), attr='id', ctx=Load()), ops=[Eq()], comparators=[Name(id='clothing_id', ctx=Load())])], keywords=[])], keywords=[]), attr='first', ctx=Load()), args=[], keywords=[]) If Expression: Call(func=Attribute(value=Name(id='db', ctx=Load()), attr='delete', ctx=Load()), args=[Name(id='db_clothing', ctx=Load())], keywords=[]) Expression: Call(func=Attribute(value=Name(id='db', ctx=Load()), attr='commit', ctx=Load()), args=[], keywords=[]) Return: Dict(keys=[], values=[]) def delete_clothing_item(image_url, user_id, db): Expression: Constant(value='\\n    Deletes a clothing based on an image_url\\n    ') Assign: Name(id='db_clothing', ctx=Store()) = Call(func=Attribute(value=Call(func=Attribute(value=Name(id='db', ctx=Load()), attr='scalars', ctx=Load()), args=[Call(func=Attribute(value=Call(func=Attribute(value=Call(func=Name(id='Select', ctx=Load()), args=[Name(id='ClothingItem', ctx=Load())], keywords=[]), attr='join', ctx=Load()), args=[Name(id='ItemImage', ctx=Load())], keywords=[]), attr='where', ctx=Load()), args=[Compare(left=Attribute(value=Name(id='ItemImage', ctx=Load()), attr='url', ctx=Load()), ops=[Eq()], comparators=[Name(id='image_url', ctx=Load())])], keywords=[])], keywords=[]), attr='first', ctx=Load()), args=[], keywords=[]) If Expression: Call(func=Attribute(value=Name(id='db', ctx=Load()), attr='delete', ctx=Load()), args=[Name(id='db_clothing', ctx=Load())], keywords=[]) Expression: Call(func=Attribute(value=Name(id='db', ctx=Load()), attr='commit', ctx=Load()), args=[], keywords=[]) Return: Dict(keys=[], values=[]) def update_clothing_item(clothing_id, clothing_item, db): Expression: Constant(value='\\n    Update a clothing item\\n    ') Assign: Name(id='query', ctx=Store()) = Call(func=Attribute(value=Call(func=Attribute(value=Call(func=Name(id='Update', ctx=Load()), args=[Name(id='ClothingItem', ctx=Load())], keywords=[]), attr='where', ctx=Load()), args=[Compare(left=Attribute(value=Name(id='ClothingItem', ctx=Load()), attr='id', ctx=Load()), ops=[Eq()], comparators=[Name(id='clothing_id', ctx=Load())])], keywords=[]), attr='values', ctx=Load()), args=[], keywords=[keyword(value=Call(func=Attribute(value=Name(id='clothing_item', ctx=Load()), attr='model_dump', ctx=Load()), args=[], keywords=[]))]) Assign: Name(id='result', ctx=Store()) = Call(func=Attribute(value=Name(id='db', ctx=Load()), attr='execute', ctx=Load()), args=[Name(id='query', ctx=Load())], keywords=[]) Expression: Call(func=Attribute(value=Name(id='db', ctx=Load()), attr='commit', ctx=Load()), args=[], keywords=[]) If Return: Dict(keys=[Constant(value='message')], values=[Constant(value='Clothing item updated successfully')]) def update_clothing_item_by_url(image_url, clothing_item, db): Expression: Constant(value='\\n    Update a clothing item based on an image_url\\n    ') Assign: Name(id='db_item_image', ctx=Store()) = Call(func=Attribute(value=Call(func=Attribute(value=Call(func=Attribute(value=Name(id='db', ctx=Load()), attr='query', ctx=Load()), args=[Name(id='ItemImage', ctx=Load())], keywords=[]), attr='filter', ctx=Load()), args=[Compare(left=Attribute(value=Name(id='ItemImage', ctx=Load()), attr='url', ctx=Load()), ops=[Eq()], comparators=[Name(id='image_url', ctx=Load())])], keywords=[]), attr='first', ctx=Load()), args=[], keywords=[]) If Assign: Name(id='clothing_id', ctx=Store()) = Attribute(value=Name(id='db_item_image', ctx=Load()), attr='clothing_item_id', ctx=Load()) Assign: Name(id='query', ctx=Store()) = Call(func=Attribute(value=Call(func=Attribute(value=Call(func=Name(id='Update', ctx=Load()), args=[Name(id='ClothingItem', ctx=Load())], keywords=[]), attr='where', ctx=Load()), args=[Compare(left=Attribute(value=Name(id='ClothingItem', ctx=Load()), attr='id', ctx=Load()), ops=[Eq()], comparators=[Name(id='clothing_id', ctx=Load())])], keywords=[]), attr='values', ctx=Load()), args=[], keywords=[keyword(value=Call(func=Attribute(value=Name(id='clothing_item', ctx=Load()), attr='model_dump', ctx=Load()), args=[], keywords=[keyword(arg='exclude_unset', value=Constant(value=True))]))]) Assign: Name(id='result', ctx=Store()) = Call(func=Attribute(value=Name(id='db', ctx=Load()), attr='execute', ctx=Load()), args=[Name(id='query', ctx=Load())], keywords=[]) Expression: Call(func=Attribute(value=Name(id='db', ctx=Load()), attr='commit', ctx=Load()), args=[], keywords=[]) If Return: Dict(keys=[Constant(value='message')], values=[Constant(value='Clothing item updated successfully')]) def upload_image(file, IMAGEDIR): Assign: Name(id='filename', ctx=Store()) = JoinedStr(values=[FormattedValue(value=Call(func=Name(id='uuid4', ctx=Load()), args=[], keywords=[]), conversion=-1), Constant(value='.'), FormattedValue(value=Subscript(value=Call(func=Attribute(value=Attribute(value=Name(id='file', ctx=Load()), attr='filename', ctx=Load()), attr='split', ctx=Load()), args=[Constant(value='.')], keywords=[]), slice=UnaryOp(op=USub(), operand=Constant(value=1)), ctx=Load()), conversion=-1)]) Assign: Name(id='file_path', ctx=Store()) = Call(func=Attribute(value=Attribute(value=Name(id='os', ctx=Load()), attr='path', ctx=Load()), attr='join', ctx=Load()), args=[Name(id='IMAGEDIR', ctx=Load()), Name(id='filename', ctx=Load())], keywords=[]) With Return: Name(id='filename', ctx=Load()) def add_clothing_item(user_id, name, description, colours, size, type, brand_id, file, db): If Assign: Name(id='type_id', ctx=Store()) = Call(func=Attribute(value=Call(func=Attribute(value=Name(id='db', ctx=Load()), attr='scalars', ctx=Load()), args=[Call(func=Attribute(value=Call(func=Name(id='Select', ctx=Load()), args=[Attribute(value=Name(id='Type', ctx=Load()), attr='id', ctx=Load())], keywords=[]), attr='where', ctx=Load()), args=[Compare(left=Attribute(value=Name(id='Type', ctx=Load()), attr='name', ctx=Load()), ops=[Eq()], comparators=[Name(id='type', ctx=Load())])], keywords=[])], keywords=[]), attr='first', ctx=Load()), args=[], keywords=[]) Assign: Name(id='clothing_item_dict', ctx=Store()) = Dict(keys=[Constant(value='name'), Constant(value='description'), Constant(value='size'), Constant(value='user_id'), Constant(value='type_id'), Constant(value='brand_id')], values=[Name(id='name', ctx=Load()), Name(id='description', ctx=Load()), Name(id='size', ctx=Load()), Name(id='user_id', ctx=Load()), Name(id='type_id', ctx=Load()), Name(id='brand_id', ctx=Load())]) Assign: Name(id='db_clothing_item', ctx=Store()) = Call(func=Name(id='ClothingItem', ctx=Load()), args=[], keywords=[keyword(value=Name(id='clothing_item_dict', ctx=Load()))]) Expression: Call(func=Attribute(value=Name(id='db', ctx=Load()), attr='add', ctx=Load()), args=[Name(id='db_clothing_item', ctx=Load())], keywords=[]) Expression: Call(func=Attribute(value=Name(id='db', ctx=Load()), attr='flush', ctx=Load()), args=[], keywords=[]) Assign: Name(id='image_filename', ctx=Store()) = Call(func=Name(id='upload_image', ctx=Load()), args=[Name(id='file', ctx=Load()), Name(id='IMAGEDIR', ctx=Load())], keywords=[]) Assign: Name(id='db_item_image', ctx=Store()) = Call(func=Name(id='ItemImage', ctx=Load()), args=[], keywords=[keyword(arg='url', value=JoinedStr(values=[FormattedValue(value=Name(id='image_filename', ctx=Load()), conversion=-1)])), keyword(arg='clothing_item', value=Name(id='db_clothing_item', ctx=Load()))]) Expression: Call(func=Attribute(value=Name(id='db', ctx=Load()), attr='add', ctx=Load()), args=[Name(id='db_item_image', ctx=Load())], keywords=[]) Assign: Name(id='colors_list', ctx=Store()) = ListComp(elt=Call(func=Attribute(value=Call(func=Attribute(value=Name(id='color_name', ctx=Load()), attr='strip', ctx=Load()), args=[], keywords=[]), attr='lower', ctx=Load()), args=[], keywords=[]), generators=[comprehension(target=Name(id='color_name', ctx=Store()), iter=Call(func=Attribute(value=Name(id='colours', ctx=Load()), attr='split', ctx=Load()), args=[Constant(value=',')], keywords=[]), ifs=[], is_async=0)]) For Expression: Call(func=Attribute(value=Name(id='db', ctx=Load()), attr='commit', ctx=Load()), args=[], keywords=[]) Expression: Call(func=Attribute(value=Name(id='db', ctx=Load()), attr='refresh', ctx=Load()), args=[Name(id='db_clothing_item', ctx=Load())], keywords=[]) Expression: Call(func=Attribute(value=Name(id='db', ctx=Load()), attr='refresh', ctx=Load()), args=[Name(id='db_item_image', ctx=Load())], keywords=[]) Return: Dict(keys=[Constant(value='clothing_item_id'), Constant(value='clothing_item_name'), Constant(value='image_url')], values=[Attribute(value=Name(id='db_clothing_item', ctx=Load()), attr='id', ctx=Load()), Attribute(value=Name(id='db_clothing_item', ctx=Load()), attr='name', ctx=Load()), Attribute(value=Name(id='db_item_image', ctx=Load()), attr='url', ctx=Load())])\n"
     ]
    }
   ],
   "source": [
    "print(query2_answer[1].metadata['source'])\n",
    "print(query2_answer[1].page_content)"
   ]
  },
  {
   "cell_type": "code",
   "execution_count": 156,
   "metadata": {},
   "outputs": [],
   "source": [
    "query3 = \"get single user details\""
   ]
  },
  {
   "cell_type": "code",
   "execution_count": 157,
   "metadata": {},
   "outputs": [],
   "source": [
    "query3_answer = library.similarity_search(query3, 2)"
   ]
  },
  {
   "cell_type": "code",
   "execution_count": 158,
   "metadata": {},
   "outputs": [
    {
     "name": "stdout",
     "output_type": "stream",
     "text": [
      "Smarderobe\\server\\app\\routers\\user_router.py\n",
      "@router.get('/{user_id}', status_code=200)\n",
      "def list_users(user_id: int, db: Session=Depends(get_db)):\n",
      "    \"\"\"\n",
      "    Fetches one user based on user_id\n",
      "    \"\"\"\n",
      "    result = db.scalars(select(User).where(User.id == user_id).options(\n",
      "        selectinload(User.profile))).first()\n",
      "    if not result:\n",
      "        raise HTTPException(status_code=status.HTTP_404_NOT_FOUND, detail=\n",
      "            'No users login credentials found')\n",
      "    return result\n",
      "\n"
     ]
    }
   ],
   "source": [
    "print(query3_answer[0].metadata['source'])\n",
    "print(query3_answer[0].page_content)"
   ]
  },
  {
   "cell_type": "code",
   "execution_count": 159,
   "metadata": {},
   "outputs": [
    {
     "name": "stdout",
     "output_type": "stream",
     "text": [
      "Smarderobe\\server\\app\\routers\\user_router.py\n",
      "@router.get('/{user_id}', status_code=200)\n",
      "def list_users(user_id: int, db: Session=Depends(get_db)):\n",
      "    \"\"\"\n",
      "    Fetches one user based on user_id\n",
      "    \"\"\"\n",
      "    result = db.scalars(select(User).where(User.id == user_id).options(\n",
      "        selectinload(User.profile))).first()\n",
      "    if not result:\n",
      "        raise HTTPException(status_code=status.HTTP_404_NOT_FOUND, detail=\n",
      "            'No users login credentials found')\n",
      "    return result\n",
      "\n",
      "\n",
      "\n",
      "Smarderobe\\server\\app\\routers\\user_router.py\n",
      "@router.get('/', status_code=200)\n",
      "def list_users(db: Session=Depends(get_db)):\n",
      "    \"\"\"\n",
      "    Fetches all users\n",
      "    \"\"\"\n",
      "    result = db.scalars(select(User).options(selectinload(User.profile))).all()\n",
      "    if not result:\n",
      "        raise HTTPException(status_code=status.HTTP_404_NOT_FOUND, detail=\n",
      "            'No users login credentials found')\n",
      "    return result\n",
      "\n",
      "\n",
      "\n"
     ]
    }
   ],
   "source": [
    "for answer in query3_answer:\n",
    "    print(answer.metadata[\"source\"])\n",
    "    print(answer.page_content)\n",
    "    print(\"\\n\")"
   ]
  }
 ],
 "metadata": {
  "kernelspec": {
   "display_name": ".venv",
   "language": "python",
   "name": "python3"
  },
  "language_info": {
   "codemirror_mode": {
    "name": "ipython",
    "version": 3
   },
   "file_extension": ".py",
   "mimetype": "text/x-python",
   "name": "python",
   "nbconvert_exporter": "python",
   "pygments_lexer": "ipython3",
   "version": "3.11.5"
  }
 },
 "nbformat": 4,
 "nbformat_minor": 2
}
