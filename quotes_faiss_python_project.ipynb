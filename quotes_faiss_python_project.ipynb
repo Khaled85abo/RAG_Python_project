{
 "cells": [
  {
   "cell_type": "code",
   "execution_count": 79,
   "metadata": {},
   "outputs": [
    {
     "name": "stdout",
     "output_type": "stream",
     "text": [
      "Requirement already satisfied: langchain-community in c:\\users\\khale\\machine_learning\\.venv\\lib\\site-packages (0.2.0)\n",
      "Requirement already satisfied: pinecone-client in c:\\users\\khale\\machine_learning\\.venv\\lib\\site-packages (4.1.0)\n",
      "Requirement already satisfied: openai in c:\\users\\khale\\machine_learning\\.venv\\lib\\site-packages (1.30.1)\n",
      "Requirement already satisfied: tiktoken in c:\\users\\khale\\machine_learning\\.venv\\lib\\site-packages (0.7.0)\n",
      "Requirement already satisfied: ipywidgets in c:\\users\\khale\\machine_learning\\.venv\\lib\\site-packages (8.1.2)\n",
      "Requirement already satisfied: langchain-openai in c:\\users\\khale\\machine_learning\\.venv\\lib\\site-packages (0.1.7)\n",
      "Collecting astor\n",
      "  Downloading astor-0.8.1-py2.py3-none-any.whl.metadata (4.2 kB)\n",
      "Requirement already satisfied: PyYAML>=5.3 in c:\\users\\khale\\machine_learning\\.venv\\lib\\site-packages (from langchain-community) (6.0.1)\n",
      "Requirement already satisfied: SQLAlchemy<3,>=1.4 in c:\\users\\khale\\machine_learning\\.venv\\lib\\site-packages (from langchain-community) (2.0.30)\n",
      "Requirement already satisfied: aiohttp<4.0.0,>=3.8.3 in c:\\users\\khale\\machine_learning\\.venv\\lib\\site-packages (from langchain-community) (3.9.5)\n",
      "Requirement already satisfied: dataclasses-json<0.7,>=0.5.7 in c:\\users\\khale\\machine_learning\\.venv\\lib\\site-packages (from langchain-community) (0.6.6)\n",
      "Requirement already satisfied: langchain<0.3.0,>=0.2.0 in c:\\users\\khale\\machine_learning\\.venv\\lib\\site-packages (from langchain-community) (0.2.0)\n",
      "Requirement already satisfied: langchain-core<0.3.0,>=0.2.0 in c:\\users\\khale\\machine_learning\\.venv\\lib\\site-packages (from langchain-community) (0.2.0)\n",
      "Requirement already satisfied: langsmith<0.2.0,>=0.1.0 in c:\\users\\khale\\machine_learning\\.venv\\lib\\site-packages (from langchain-community) (0.1.60)\n",
      "Requirement already satisfied: numpy<2,>=1 in c:\\users\\khale\\machine_learning\\.venv\\lib\\site-packages (from langchain-community) (1.26.4)\n",
      "Requirement already satisfied: requests<3,>=2 in c:\\users\\khale\\machine_learning\\.venv\\lib\\site-packages (from langchain-community) (2.32.2)\n",
      "Requirement already satisfied: tenacity<9.0.0,>=8.1.0 in c:\\users\\khale\\machine_learning\\.venv\\lib\\site-packages (from langchain-community) (8.3.0)\n",
      "Requirement already satisfied: certifi>=2019.11.17 in c:\\users\\khale\\machine_learning\\.venv\\lib\\site-packages (from pinecone-client) (2024.2.2)\n",
      "Requirement already satisfied: tqdm>=4.64.1 in c:\\users\\khale\\machine_learning\\.venv\\lib\\site-packages (from pinecone-client) (4.66.4)\n",
      "Requirement already satisfied: typing-extensions>=3.7.4 in c:\\users\\khale\\machine_learning\\.venv\\lib\\site-packages (from pinecone-client) (4.11.0)\n",
      "Requirement already satisfied: urllib3>=1.26.0 in c:\\users\\khale\\machine_learning\\.venv\\lib\\site-packages (from pinecone-client) (2.2.1)\n",
      "Requirement already satisfied: anyio<5,>=3.5.0 in c:\\users\\khale\\machine_learning\\.venv\\lib\\site-packages (from openai) (4.3.0)\n",
      "Requirement already satisfied: distro<2,>=1.7.0 in c:\\users\\khale\\machine_learning\\.venv\\lib\\site-packages (from openai) (1.9.0)\n",
      "Requirement already satisfied: httpx<1,>=0.23.0 in c:\\users\\khale\\machine_learning\\.venv\\lib\\site-packages (from openai) (0.27.0)\n",
      "Requirement already satisfied: pydantic<3,>=1.9.0 in c:\\users\\khale\\machine_learning\\.venv\\lib\\site-packages (from openai) (2.7.1)\n",
      "Requirement already satisfied: sniffio in c:\\users\\khale\\machine_learning\\.venv\\lib\\site-packages (from openai) (1.3.1)\n",
      "Requirement already satisfied: regex>=2022.1.18 in c:\\users\\khale\\machine_learning\\.venv\\lib\\site-packages (from tiktoken) (2024.5.15)\n",
      "Requirement already satisfied: comm>=0.1.3 in c:\\users\\khale\\machine_learning\\.venv\\lib\\site-packages (from ipywidgets) (0.2.2)\n",
      "Requirement already satisfied: ipython>=6.1.0 in c:\\users\\khale\\machine_learning\\.venv\\lib\\site-packages (from ipywidgets) (8.24.0)\n",
      "Requirement already satisfied: traitlets>=4.3.1 in c:\\users\\khale\\machine_learning\\.venv\\lib\\site-packages (from ipywidgets) (5.14.3)\n",
      "Requirement already satisfied: widgetsnbextension~=4.0.10 in c:\\users\\khale\\machine_learning\\.venv\\lib\\site-packages (from ipywidgets) (4.0.10)\n",
      "Requirement already satisfied: jupyterlab-widgets~=3.0.10 in c:\\users\\khale\\machine_learning\\.venv\\lib\\site-packages (from ipywidgets) (3.0.10)\n",
      "Requirement already satisfied: aiosignal>=1.1.2 in c:\\users\\khale\\machine_learning\\.venv\\lib\\site-packages (from aiohttp<4.0.0,>=3.8.3->langchain-community) (1.3.1)\n",
      "Requirement already satisfied: attrs>=17.3.0 in c:\\users\\khale\\machine_learning\\.venv\\lib\\site-packages (from aiohttp<4.0.0,>=3.8.3->langchain-community) (23.2.0)\n",
      "Requirement already satisfied: frozenlist>=1.1.1 in c:\\users\\khale\\machine_learning\\.venv\\lib\\site-packages (from aiohttp<4.0.0,>=3.8.3->langchain-community) (1.4.1)\n",
      "Requirement already satisfied: multidict<7.0,>=4.5 in c:\\users\\khale\\machine_learning\\.venv\\lib\\site-packages (from aiohttp<4.0.0,>=3.8.3->langchain-community) (6.0.5)\n",
      "Requirement already satisfied: yarl<2.0,>=1.0 in c:\\users\\khale\\machine_learning\\.venv\\lib\\site-packages (from aiohttp<4.0.0,>=3.8.3->langchain-community) (1.9.4)\n",
      "Requirement already satisfied: idna>=2.8 in c:\\users\\khale\\machine_learning\\.venv\\lib\\site-packages (from anyio<5,>=3.5.0->openai) (3.7)\n",
      "Requirement already satisfied: marshmallow<4.0.0,>=3.18.0 in c:\\users\\khale\\machine_learning\\.venv\\lib\\site-packages (from dataclasses-json<0.7,>=0.5.7->langchain-community) (3.21.2)\n",
      "Requirement already satisfied: typing-inspect<1,>=0.4.0 in c:\\users\\khale\\machine_learning\\.venv\\lib\\site-packages (from dataclasses-json<0.7,>=0.5.7->langchain-community) (0.9.0)\n",
      "Requirement already satisfied: httpcore==1.* in c:\\users\\khale\\machine_learning\\.venv\\lib\\site-packages (from httpx<1,>=0.23.0->openai) (1.0.5)\n",
      "Requirement already satisfied: h11<0.15,>=0.13 in c:\\users\\khale\\machine_learning\\.venv\\lib\\site-packages (from httpcore==1.*->httpx<1,>=0.23.0->openai) (0.14.0)\n",
      "Requirement already satisfied: decorator in c:\\users\\khale\\machine_learning\\.venv\\lib\\site-packages (from ipython>=6.1.0->ipywidgets) (5.1.1)\n",
      "Requirement already satisfied: jedi>=0.16 in c:\\users\\khale\\machine_learning\\.venv\\lib\\site-packages (from ipython>=6.1.0->ipywidgets) (0.19.1)\n",
      "Requirement already satisfied: matplotlib-inline in c:\\users\\khale\\machine_learning\\.venv\\lib\\site-packages (from ipython>=6.1.0->ipywidgets) (0.1.7)\n",
      "Requirement already satisfied: prompt-toolkit<3.1.0,>=3.0.41 in c:\\users\\khale\\machine_learning\\.venv\\lib\\site-packages (from ipython>=6.1.0->ipywidgets) (3.0.43)\n",
      "Requirement already satisfied: pygments>=2.4.0 in c:\\users\\khale\\machine_learning\\.venv\\lib\\site-packages (from ipython>=6.1.0->ipywidgets) (2.18.0)\n",
      "Requirement already satisfied: stack-data in c:\\users\\khale\\machine_learning\\.venv\\lib\\site-packages (from ipython>=6.1.0->ipywidgets) (0.6.3)\n",
      "Requirement already satisfied: colorama in c:\\users\\khale\\machine_learning\\.venv\\lib\\site-packages (from ipython>=6.1.0->ipywidgets) (0.4.6)\n",
      "Requirement already satisfied: langchain-text-splitters<0.3.0,>=0.2.0 in c:\\users\\khale\\machine_learning\\.venv\\lib\\site-packages (from langchain<0.3.0,>=0.2.0->langchain-community) (0.2.0)\n",
      "Requirement already satisfied: jsonpatch<2.0,>=1.33 in c:\\users\\khale\\machine_learning\\.venv\\lib\\site-packages (from langchain-core<0.3.0,>=0.2.0->langchain-community) (1.33)\n",
      "Requirement already satisfied: packaging<24.0,>=23.2 in c:\\users\\khale\\machine_learning\\.venv\\lib\\site-packages (from langchain-core<0.3.0,>=0.2.0->langchain-community) (23.2)\n",
      "Requirement already satisfied: orjson<4.0.0,>=3.9.14 in c:\\users\\khale\\machine_learning\\.venv\\lib\\site-packages (from langsmith<0.2.0,>=0.1.0->langchain-community) (3.10.3)\n",
      "Requirement already satisfied: annotated-types>=0.4.0 in c:\\users\\khale\\machine_learning\\.venv\\lib\\site-packages (from pydantic<3,>=1.9.0->openai) (0.7.0)\n",
      "Requirement already satisfied: pydantic-core==2.18.2 in c:\\users\\khale\\machine_learning\\.venv\\lib\\site-packages (from pydantic<3,>=1.9.0->openai) (2.18.2)\n",
      "Requirement already satisfied: charset-normalizer<4,>=2 in c:\\users\\khale\\machine_learning\\.venv\\lib\\site-packages (from requests<3,>=2->langchain-community) (3.3.2)\n",
      "Requirement already satisfied: greenlet!=0.4.17 in c:\\users\\khale\\machine_learning\\.venv\\lib\\site-packages (from SQLAlchemy<3,>=1.4->langchain-community) (3.0.3)\n",
      "Requirement already satisfied: parso<0.9.0,>=0.8.3 in c:\\users\\khale\\machine_learning\\.venv\\lib\\site-packages (from jedi>=0.16->ipython>=6.1.0->ipywidgets) (0.8.4)\n",
      "Requirement already satisfied: jsonpointer>=1.9 in c:\\users\\khale\\machine_learning\\.venv\\lib\\site-packages (from jsonpatch<2.0,>=1.33->langchain-core<0.3.0,>=0.2.0->langchain-community) (2.4)\n",
      "Requirement already satisfied: wcwidth in c:\\users\\khale\\machine_learning\\.venv\\lib\\site-packages (from prompt-toolkit<3.1.0,>=3.0.41->ipython>=6.1.0->ipywidgets) (0.2.13)\n",
      "Requirement already satisfied: mypy-extensions>=0.3.0 in c:\\users\\khale\\machine_learning\\.venv\\lib\\site-packages (from typing-inspect<1,>=0.4.0->dataclasses-json<0.7,>=0.5.7->langchain-community) (1.0.0)\n",
      "Requirement already satisfied: executing>=1.2.0 in c:\\users\\khale\\machine_learning\\.venv\\lib\\site-packages (from stack-data->ipython>=6.1.0->ipywidgets) (2.0.1)\n",
      "Requirement already satisfied: asttokens>=2.1.0 in c:\\users\\khale\\machine_learning\\.venv\\lib\\site-packages (from stack-data->ipython>=6.1.0->ipywidgets) (2.4.1)\n",
      "Requirement already satisfied: pure-eval in c:\\users\\khale\\machine_learning\\.venv\\lib\\site-packages (from stack-data->ipython>=6.1.0->ipywidgets) (0.2.2)\n",
      "Requirement already satisfied: six>=1.12.0 in c:\\users\\khale\\machine_learning\\.venv\\lib\\site-packages (from asttokens>=2.1.0->stack-data->ipython>=6.1.0->ipywidgets) (1.16.0)\n",
      "Downloading astor-0.8.1-py2.py3-none-any.whl (27 kB)\n",
      "Installing collected packages: astor\n",
      "Successfully installed astor-0.8.1\n",
      "Note: you may need to restart the kernel to use updated packages.\n"
     ]
    }
   ],
   "source": [
    "pip install -U langchain-community pinecone-client openai tiktoken ipywidgets -U langchain-openai astor\n"
   ]
  },
  {
   "cell_type": "code",
   "execution_count": 80,
   "metadata": {},
   "outputs": [],
   "source": [
    "from langchain_openai import OpenAIEmbeddings\n",
    "from langchain_community.vectorstores import FAISS\n",
    "from dotenv import load_dotenv\n",
    "import os\n",
    "import ast\n",
    "import astor\n"
   ]
  },
  {
   "cell_type": "code",
   "execution_count": 151,
   "metadata": {},
   "outputs": [],
   "source": [
    "# Load the environment variables from .env file\n",
    "load_dotenv()\n",
    "OPENAI_API_KEY = os.getenv('OPENAI_API_KEY')\n",
    "\n",
    "EMBEDDINGS_SIZE_LARGE = 3072\n",
    "EMBEDDINGS_SIZE_SMALL = 1536"
   ]
  },
  {
   "cell_type": "code",
   "execution_count": 138,
   "metadata": {},
   "outputs": [],
   "source": [
    "import ast\n",
    "import astor\n",
    "import os\n",
    "\n",
    "class CodeVisitor(ast.NodeVisitor):\n",
    "    def __init__(self):\n",
    "        self.code_elements = []\n",
    "\n",
    "    \n",
    "    # def visit_Import(self, node):\n",
    "    #     self.elements.append(node)  # Store the AST node directly\n",
    "\n",
    "    # def visit_ImportFrom(self, node):\n",
    "    #     self.elements.append(node)  # Store the AST node directly\n",
    "\n",
    "    # def visit_ClassDef(self, node):\n",
    "    #     self.elements.append(node)  # Store the AST node directly\n",
    "\n",
    "    # # If you want to process body items as well\n",
    "    # def visit_Assign(self, node):\n",
    "    #     self.elements.append(node)  # Store assignment nodes\n",
    "\n",
    "    # def visit_Expr(self, node):\n",
    "    #     self.elements.append(node)  # Store expression nodes\n",
    "\n",
    "    # def visit_Return(self, node):\n",
    "    #     self.elements.append(node)  # Store return nodes\n",
    "\n",
    "    # def visit_FunctionDef(self, node):\n",
    "    #     self.elements.append(node)  # Store the AST node directly\n",
    "\n",
    "    def visit_FunctionDef(self, node):\n",
    "        # Store function source code and metadata\n",
    "        self.code_elements.append({\n",
    "            \"page_content\": astor.to_source(node),\n",
    "            \"metadata\": {\n",
    "                \"type\": \"function\",\n",
    "                \"name\": node.name\n",
    "            }\n",
    "        })\n",
    "\n",
    "    def visit_ClassDef(self, node):\n",
    "        # Store the class itself\n",
    "        self.code_elements.append({\n",
    "            \"page_content\": astor.to_source(node),\n",
    "            \"metadata\": {\n",
    "                \"type\": \"class\",\n",
    "                \"name\": node.name\n",
    "            }\n",
    "        })\n",
    "        # Also visit methods within the class\n",
    "        method_visitor = CodeVisitor()\n",
    "        for n in node.body:\n",
    "            if isinstance(n, ast.FunctionDef):\n",
    "                method_visitor.visit(n)\n",
    "        self.code_elements.extend(method_visitor.code_elements)\n",
    "\n",
    "def parse_code_from_file(file_path):\n",
    "    with open(file_path, 'r', encoding='utf-8') as file:\n",
    "        source_code = file.read()\n",
    "    tree = ast.parse(source_code)\n",
    "    visitor = CodeVisitor()\n",
    "    visitor.visit(tree)\n",
    "    return [\n",
    "        {**element, \"metadata\": {**element[\"metadata\"], \"source\": os.path.normpath(file_path)}}\n",
    "        for element in visitor.code_elements\n",
    "    ]\n",
    "\n",
    "def traverse_directory(directory):\n",
    "    all_code_elements = []\n",
    "    for root, dirs, files in os.walk(directory):\n",
    "        for file in files:\n",
    "            if file.endswith('.py'):\n",
    "                file_path = os.path.join(root, file)\n",
    "                code_elements = parse_code_from_file(file_path)\n",
    "                all_code_elements.extend(code_elements)\n",
    "    return all_code_elements\n",
    "\n",
    "# Example usage\n",
    "project_directory = \"./Smarderobe/server\"\n",
    "all_code_details = traverse_directory(project_directory)\n",
    "    "
   ]
  },
  {
   "cell_type": "code",
   "execution_count": 129,
   "metadata": {},
   "outputs": [],
   "source": [
    "embeddings = OpenAIEmbeddings( model =\"text-embedding-3-large\", openai_api_key=OPENAI_API_KEY)\n"
   ]
  },
  {
   "cell_type": "code",
   "execution_count": 130,
   "metadata": {},
   "outputs": [],
   "source": [
    "# Function to initialize a FAISS vector store from documents\n",
    "def create_faiss_library(documents):\n",
    "    texts = [d['page_content'] for d in documents]\n",
    "    metadatas = [d['metadata'] for d in documents]\n",
    "    # Adjust the following line if the FAISS library API differs\n",
    "    return FAISS.from_texts(texts,  metadatas=metadatas, embedding=embeddings)"
   ]
  },
  {
   "cell_type": "code",
   "execution_count": 139,
   "metadata": {},
   "outputs": [],
   "source": [
    "library = create_faiss_library(all_code_details)\n"
   ]
  },
  {
   "cell_type": "code",
   "execution_count": 147,
   "metadata": {},
   "outputs": [],
   "source": [
    "query = \"user class\""
   ]
  },
  {
   "cell_type": "code",
   "execution_count": 148,
   "metadata": {},
   "outputs": [],
   "source": [
    "query_answer = library.similarity_search(query, 5)"
   ]
  },
  {
   "cell_type": "code",
   "execution_count": 142,
   "metadata": {},
   "outputs": [
    {
     "name": "stdout",
     "output_type": "stream",
     "text": [
      "page_content=\"@router.get('/verification/{token}', response_class=HTMLResponse)\\ndef validate_user(token: str, request: Request, db: Session=Depends(get_db)):\\n    try:\\n        payload = jwt.decode(token, SECRET_KEY, algorithms=[ALGORITHM])\\n        user_id: int = payload.get('id')\\n        query = select(User).where(User.id == user_id)\\n        db_user = db.scalars(query).first()\\n        if not db_user:\\n            raise HTTPException(status_code=404, detail='User not found')\\n        db_user.email_verified = True\\n        db.commit()\\n        return templates.TemplateResponse(request=request, name=\\n            'account_verified.html', context={'message':\\n            'Your account has been verified.'})\\n    except JWTError:\\n        return templates.TemplateResponse(request=request, name=\\n            'account_verified.html', context={'message': 'Token is not valid.'}\\n            )\\n    except Exception:\\n        return templates.TemplateResponse(request=request, name=\\n            'account_verified.html', context={'message':\\n            'Sorry, Something went wrong!'})\\n\" metadata={'type': 'function', 'name': 'validate_user', 'source': 'Smarderobe\\\\server\\\\app\\\\routers\\\\user_router.py'}\n"
     ]
    }
   ],
   "source": [
    "print(query_answer[0])"
   ]
  },
  {
   "cell_type": "code",
   "execution_count": 149,
   "metadata": {},
   "outputs": [
    {
     "name": "stdout",
     "output_type": "stream",
     "text": [
      "class UserOutSchema(BaseModel):\n",
      "    first_name: str = Field(..., min_length=1, max_length=100)\n",
      "    last_name: str = Field(..., min_length=1, max_length=100)\n",
      "    email: EmailStr = Field(..., min_length=1, max_length=50, description=\n",
      "        'Email has to be Unique and is required.')\n",
      "    email_verified: bool\n",
      "    is_active: bool\n",
      "    id: int\n",
      "    profile: Optional[ProfileSchema]\n",
      "\n"
     ]
    }
   ],
   "source": [
    "print(query_answer[1].page_content)"
   ]
  },
  {
   "cell_type": "code",
   "execution_count": 150,
   "metadata": {},
   "outputs": [
    {
     "name": "stdout",
     "output_type": "stream",
     "text": [
      "{'type': 'class', 'name': 'User', 'source': 'Smarderobe\\\\server\\\\app\\\\database\\\\models\\\\user.py'}\n",
      "Smarderobe\\server\\app\\database\\models\\user.py\n",
      "User\n",
      "\n",
      "\n",
      "{'type': 'class', 'name': 'UserOutSchema', 'source': 'Smarderobe\\\\server\\\\app\\\\database\\\\schemas\\\\user_schema.py'}\n",
      "Smarderobe\\server\\app\\database\\schemas\\user_schema.py\n",
      "UserOutSchema\n",
      "\n",
      "\n",
      "{'type': 'class', 'name': 'UserLoginSchema', 'source': 'Smarderobe\\\\server\\\\app\\\\database\\\\schemas\\\\user_schema.py'}\n",
      "Smarderobe\\server\\app\\database\\schemas\\user_schema.py\n",
      "UserLoginSchema\n",
      "\n",
      "\n",
      "{'type': 'function', 'name': 'validate_user', 'source': 'Smarderobe\\\\server\\\\app\\\\routers\\\\user_router.py'}\n",
      "Smarderobe\\server\\app\\routers\\user_router.py\n",
      "validate_user\n",
      "\n",
      "\n",
      "{'type': 'class', 'name': 'UserSchema', 'source': 'Smarderobe\\\\server\\\\app\\\\database\\\\schemas\\\\user_schema.py'}\n",
      "Smarderobe\\server\\app\\database\\schemas\\user_schema.py\n",
      "UserSchema\n",
      "\n",
      "\n"
     ]
    }
   ],
   "source": [
    "for answer in query_answer:\n",
    "    print(answer.metadata)\n",
    "    print(answer.metadata['source'])\n",
    "    print(answer.metadata['name'])\n",
    "    print(\"\\n\")"
   ]
  },
  {
   "cell_type": "code",
   "execution_count": 109,
   "metadata": {},
   "outputs": [],
   "source": [
    "query2 = \"upload image\""
   ]
  },
  {
   "cell_type": "code",
   "execution_count": 110,
   "metadata": {},
   "outputs": [],
   "source": [
    "query2_answer = library.similarity_search(query2, 2)"
   ]
  },
  {
   "cell_type": "code",
   "execution_count": 111,
   "metadata": {},
   "outputs": [
    {
     "name": "stdout",
     "output_type": "stream",
     "text": [
      "Smarderobe\\server\\app\\routers\\image_router.py\n",
      "@router.get('/{body_section_id}', status_code=200)\n",
      "def get_image(body_section_id: int, user_id: Annotated[int, Depends(\n",
      "    get_user_id)], db: Session=Depends(get_db)):\n",
      "    image_url = db.scalars(select(ItemImage.url).join(ClothingItem, \n",
      "        ClothingItem.id == ItemImage.clothing_item_id).join(Type, Type.id ==\n",
      "        ClothingItem.type_id).where(and_(Type.body_section_id ==\n",
      "        body_section_id, ClothingItem.user_id == user_id))).all()\n",
      "    return image_url\n",
      "\n",
      "@router.get('/display/{image_name}', status_code=200)\n",
      "def get_image_with_name(image_name: str):\n",
      "    images = os.listdir(IMAGEDIR)\n",
      "    return FileResponse(f'{IMAGEDIR}{image_name}')\n",
      "\n",
      "@router.delete('/{image_url}', status_code=status.HTTP_204_NO_CONTENT)\n",
      "def delete_clothing_item(image_url: str, db: Session=Depends(get_db)):\n",
      "    \"\"\"\n",
      "    Deletes an image based on an url\n",
      "    \"\"\"\n",
      "    db_image = db.scalars(select(ItemImage).where(ItemImage.url == image_url)\n",
      "        ).first()\n",
      "    if db_image is None:\n",
      "        raise HTTPException(status_code=404, detail='Image not found')\n",
      "    db.delete(db_image)\n",
      "    db.commit()\n",
      "    return {}\n",
      "\n"
     ]
    }
   ],
   "source": [
    "print(query2_answer[0].metadata['source'])\n",
    "print(query2_answer[0].page_content)"
   ]
  },
  {
   "cell_type": "code",
   "execution_count": 112,
   "metadata": {},
   "outputs": [
    {
     "name": "stdout",
     "output_type": "stream",
     "text": [
      "Smarderobe\\server\\app\\routers\\image_router.py\n",
      "@router.get('/{body_section_id}', status_code=200)\n",
      "def get_image(body_section_id: int, user_id: Annotated[int, Depends(\n",
      "    get_user_id)], db: Session=Depends(get_db)):\n",
      "    image_url = db.scalars(select(ItemImage.url).join(ClothingItem, \n",
      "        ClothingItem.id == ItemImage.clothing_item_id).join(Type, Type.id ==\n",
      "        ClothingItem.type_id).where(and_(Type.body_section_id ==\n",
      "        body_section_id, ClothingItem.user_id == user_id))).all()\n",
      "    return image_url\n",
      "\n",
      "@router.get('/display/{image_name}', status_code=200)\n",
      "def get_image_with_name(image_name: str):\n",
      "    images = os.listdir(IMAGEDIR)\n",
      "    return FileResponse(f'{IMAGEDIR}{image_name}')\n",
      "\n",
      "@router.delete('/{image_url}', status_code=status.HTTP_204_NO_CONTENT)\n",
      "def delete_clothing_item(image_url: str, db: Session=Depends(get_db)):\n",
      "    \"\"\"\n",
      "    Deletes an image based on an url\n",
      "    \"\"\"\n",
      "    db_image = db.scalars(select(ItemImage).where(ItemImage.url == image_url)\n",
      "        ).first()\n",
      "    if db_image is None:\n",
      "        raise HTTPException(status_code=404, detail='Image not found')\n",
      "    db.delete(db_image)\n",
      "    db.commit()\n",
      "    return {}\n",
      "\n",
      "\n",
      "\n",
      "Smarderobe\\server\\app\\routers\\clothing_item_router.py\n",
      "@router.get('/', status_code=200)\n",
      "def list_clothing_items(db: Session=Depends(get_db)):\n",
      "    \"\"\"\n",
      "    Get all clothing items\n",
      "    \"\"\"\n",
      "    result = db.scalars(Select(ClothingItem).options(selectinload(\n",
      "        ClothingItem.item_images))).all()\n",
      "    if not result:\n",
      "        raise HTTPException(status_code=status.HTTP_404_NOT_FOUND, detail=\n",
      "            'No clothing items found')\n",
      "    return result\n",
      "\n",
      "@router.get('/{clothing_id}', status_code=200)\n",
      "def list_clothing_items(clothing_id: int, db: Session=Depends(get_db)):\n",
      "    \"\"\"\n",
      "    Get one clothing item based on its id\n",
      "    \"\"\"\n",
      "    result = db.scalars(Select(ClothingItem).where(ClothingItem.id ==\n",
      "        clothing_id).options(selectinload(ClothingItem.item_images))).first()\n",
      "    if not result:\n",
      "        raise HTTPException(status_code=status.HTTP_404_NOT_FOUND, detail=\n",
      "            'No cloting items found')\n",
      "    return result\n",
      "\n",
      "@router.get('/image/{image_url}', status_code=200)\n",
      "def get_clothing_item_by_image_url(image_url: str, user_id: Annotated[int,\n",
      "    Depends(get_user_id)], db: Session=Depends(get_db)):\n",
      "    \"\"\"\n",
      "    Get one clothing item based on its image URL\n",
      "    \"\"\"\n",
      "    query = Select(ClothingItem).join(ClothingItem.item_images).where(\n",
      "        ItemImage.url == image_url).join(ClothingItem.colors).join(\n",
      "        ClothingItemColor.color).options(selectinload(ClothingItem.colors).\n",
      "        selectinload(ClothingItemColor.color), selectinload(ClothingItem.type))\n",
      "    result = db.scalars(query).first()\n",
      "    if result is None:\n",
      "        raise HTTPException(status_code=404, detail='Clothing item not found')\n",
      "    return result\n",
      "\n",
      "@router.delete('/{clothing_id}', status_code=status.HTTP_204_NO_CONTENT)\n",
      "def delete_clothing_item(clothing_id: int, db: Session=Depends(get_db)):\n",
      "    \"\"\"\n",
      "    Deletes a clothing based on an id\n",
      "    \"\"\"\n",
      "    db_clothing = db.scalars(Select(ClothingItem).where(ClothingItem.id ==\n",
      "        clothing_id)).first()\n",
      "    if db_clothing is None:\n",
      "        raise HTTPException(status_code=404, detail='Clothing not found')\n",
      "    db.delete(db_clothing)\n",
      "    db.commit()\n",
      "    return {}\n",
      "\n",
      "@router.delete('/delete/{image_url}', status_code=status.HTTP_204_NO_CONTENT)\n",
      "def delete_clothing_item(image_url: str, user_id: Annotated[int, Depends(\n",
      "    get_user_id)], db: Session=Depends(get_db)):\n",
      "    \"\"\"\n",
      "    Deletes a clothing based on an image_url\n",
      "    \"\"\"\n",
      "    db_clothing = db.scalars(Select(ClothingItem).join(ItemImage).where(\n",
      "        ItemImage.url == image_url)).first()\n",
      "    if db_clothing is None:\n",
      "        raise HTTPException(status_code=404, detail='Clothing not found')\n",
      "    db.delete(db_clothing)\n",
      "    db.commit()\n",
      "    return {}\n",
      "\n",
      "@router.put('/{clothing_id}', status_code=status.HTTP_204_NO_CONTENT)\n",
      "def update_clothing_item(clothing_id: int, clothing_item:\n",
      "    ClothingItemSchema, db: Session=Depends(get_db)):\n",
      "    \"\"\"\n",
      "    Update a clothing item\n",
      "    \"\"\"\n",
      "    query = Update(ClothingItem).where(ClothingItem.id == clothing_id).values(\n",
      "        **clothing_item.model_dump())\n",
      "    result = db.execute(query)\n",
      "    db.commit()\n",
      "    if result is None:\n",
      "        raise HTTPException(status_code=404, detail='Clothing item not found')\n",
      "    return {'message': 'Clothing item updated successfully'}\n",
      "\n",
      "@router.put('/update/{image_url}', status_code=status.HTTP_204_NO_CONTENT)\n",
      "def update_clothing_item_by_url(image_url: str, clothing_item:\n",
      "    UpdateClothingItemSchema, db: Session=Depends(get_db)):\n",
      "    \"\"\"\n",
      "    Update a clothing item based on an image_url\n",
      "    \"\"\"\n",
      "    db_item_image = db.query(ItemImage).filter(ItemImage.url == image_url\n",
      "        ).first()\n",
      "    if db_item_image is None:\n",
      "        raise HTTPException(status_code=404, detail='Image URL not found')\n",
      "    clothing_id = db_item_image.clothing_item_id\n",
      "    query = Update(ClothingItem).where(ClothingItem.id == clothing_id).values(\n",
      "        **clothing_item.model_dump(exclude_unset=True))\n",
      "    result = db.execute(query)\n",
      "    db.commit()\n",
      "    if result.rowcount == 0:\n",
      "        raise HTTPException(status_code=404, detail='Clothing item not found')\n",
      "    return {'message': 'Clothing item updated successfully'}\n",
      "\n",
      "def upload_image(file: UploadFile, IMAGEDIR: str) ->str:\n",
      "    filename = f\"{uuid4()}.{file.filename.split('.')[-1]}\"\n",
      "    file_path = os.path.join(IMAGEDIR, filename)\n",
      "    with open(file_path, 'wb') as f:\n",
      "        for chunk in file.file:\n",
      "            f.write(chunk)\n",
      "    return filename\n",
      "\n",
      "@router.post('/', status_code=201)\n",
      "def add_clothing_item(user_id: Annotated[int, Depends(get_user_id)], name:\n",
      "    str=Form(...), description: str=Form(None), colours: str=Form(...),\n",
      "    size: str=Form(...), type: str=Form(None), brand_id: int=Form(...),\n",
      "    file: UploadFile=File(...), db: Session=Depends(get_db)):\n",
      "    if file.filename.split('.')[-1].lower() not in ['jpg', 'jpeg', 'bmp',\n",
      "        'webp', 'png']:\n",
      "        raise HTTPException(status_code=400, detail=\n",
      "            'Image extension is not supported')\n",
      "    type_id = db.scalars(Select(Type.id).where(Type.name == type)).first()\n",
      "    clothing_item_dict = {'name': name, 'description': description, 'size':\n",
      "        size, 'user_id': user_id, 'type_id': type_id, 'brand_id': brand_id}\n",
      "    db_clothing_item = ClothingItem(**clothing_item_dict)\n",
      "    db.add(db_clothing_item)\n",
      "    db.flush()\n",
      "    image_filename = upload_image(file, IMAGEDIR)\n",
      "    db_item_image = ItemImage(url=f'{image_filename}', clothing_item=\n",
      "        db_clothing_item)\n",
      "    db.add(db_item_image)\n",
      "    colors_list = [color_name.strip().lower() for color_name in colours.\n",
      "        split(',')]\n",
      "    for color_name in colors_list:\n",
      "        color = db.query(Color).filter(Color.name == color_name).first()\n",
      "        if color:\n",
      "            db.add(ClothingItemColor(clothing_item_id=db_clothing_item.id,\n",
      "                color_id=color.id))\n",
      "        else:\n",
      "            db.rollback()\n",
      "            raise HTTPException(status_code=400, detail=\n",
      "                f\"Color '{color_name}' does not exist in the database\")\n",
      "    db.commit()\n",
      "    db.refresh(db_clothing_item)\n",
      "    db.refresh(db_item_image)\n",
      "    return {'clothing_item_id': db_clothing_item.id, 'clothing_item_name':\n",
      "        db_clothing_item.name, 'image_url': db_item_image.url}\n",
      "\n",
      "\n",
      "\n"
     ]
    }
   ],
   "source": [
    "for answer in query2_answer:\n",
    "    print(answer.metadata[\"source\"])\n",
    "    print(answer.page_content)\n",
    "    print(\"\\n\")"
   ]
  },
  {
   "cell_type": "code",
   "execution_count": 66,
   "metadata": {},
   "outputs": [
    {
     "name": "stdout",
     "output_type": "stream",
     "text": [
      "Smarderobe\\server\\app\\routers\\clothing_item_router.py\n",
      "def list_clothing_items(db): Expression: Constant(value='\\n    Get all clothing items\\n    ') Assign: Name(id='result', ctx=Store()) = Call(func=Attribute(value=Call(func=Attribute(value=Name(id='db', ctx=Load()), attr='scalars', ctx=Load()), args=[Call(func=Attribute(value=Call(func=Name(id='Select', ctx=Load()), args=[Name(id='ClothingItem', ctx=Load())], keywords=[]), attr='options', ctx=Load()), args=[Call(func=Name(id='selectinload', ctx=Load()), args=[Attribute(value=Name(id='ClothingItem', ctx=Load()), attr='item_images', ctx=Load())], keywords=[])], keywords=[])], keywords=[]), attr='all', ctx=Load()), args=[], keywords=[]) If Return: Name(id='result', ctx=Load()) def list_clothing_items(clothing_id, db): Expression: Constant(value='\\n    Get one clothing item based on its id\\n    ') Assign: Name(id='result', ctx=Store()) = Call(func=Attribute(value=Call(func=Attribute(value=Name(id='db', ctx=Load()), attr='scalars', ctx=Load()), args=[Call(func=Attribute(value=Call(func=Attribute(value=Call(func=Name(id='Select', ctx=Load()), args=[Name(id='ClothingItem', ctx=Load())], keywords=[]), attr='where', ctx=Load()), args=[Compare(left=Attribute(value=Name(id='ClothingItem', ctx=Load()), attr='id', ctx=Load()), ops=[Eq()], comparators=[Name(id='clothing_id', ctx=Load())])], keywords=[]), attr='options', ctx=Load()), args=[Call(func=Name(id='selectinload', ctx=Load()), args=[Attribute(value=Name(id='ClothingItem', ctx=Load()), attr='item_images', ctx=Load())], keywords=[])], keywords=[])], keywords=[]), attr='first', ctx=Load()), args=[], keywords=[]) If Return: Name(id='result', ctx=Load()) def get_clothing_item_by_image_url(image_url, user_id, db): Expression: Constant(value='\\n    Get one clothing item based on its image URL\\n    ') Assign: Name(id='query', ctx=Store()) = Call(func=Attribute(value=Call(func=Attribute(value=Call(func=Attribute(value=Call(func=Attribute(value=Call(func=Attribute(value=Call(func=Name(id='Select', ctx=Load()), args=[Name(id='ClothingItem', ctx=Load())], keywords=[]), attr='join', ctx=Load()), args=[Attribute(value=Name(id='ClothingItem', ctx=Load()), attr='item_images', ctx=Load())], keywords=[]), attr='where', ctx=Load()), args=[Compare(left=Attribute(value=Name(id='ItemImage', ctx=Load()), attr='url', ctx=Load()), ops=[Eq()], comparators=[Name(id='image_url', ctx=Load())])], keywords=[]), attr='join', ctx=Load()), args=[Attribute(value=Name(id='ClothingItem', ctx=Load()), attr='colors', ctx=Load())], keywords=[]), attr='join', ctx=Load()), args=[Attribute(value=Name(id='ClothingItemColor', ctx=Load()), attr='color', ctx=Load())], keywords=[]), attr='options', ctx=Load()), args=[Call(func=Attribute(value=Call(func=Name(id='selectinload', ctx=Load()), args=[Attribute(value=Name(id='ClothingItem', ctx=Load()), attr='colors', ctx=Load())], keywords=[]), attr='selectinload', ctx=Load()), args=[Attribute(value=Name(id='ClothingItemColor', ctx=Load()), attr='color', ctx=Load())], keywords=[]), Call(func=Name(id='selectinload', ctx=Load()), args=[Attribute(value=Name(id='ClothingItem', ctx=Load()), attr='type', ctx=Load())], keywords=[])], keywords=[]) Assign: Name(id='result', ctx=Store()) = Call(func=Attribute(value=Call(func=Attribute(value=Name(id='db', ctx=Load()), attr='scalars', ctx=Load()), args=[Name(id='query', ctx=Load())], keywords=[]), attr='first', ctx=Load()), args=[], keywords=[]) If Return: Name(id='result', ctx=Load()) def delete_clothing_item(clothing_id, db): Expression: Constant(value='\\n    Deletes a clothing based on an id\\n    ') Assign: Name(id='db_clothing', ctx=Store()) = Call(func=Attribute(value=Call(func=Attribute(value=Name(id='db', ctx=Load()), attr='scalars', ctx=Load()), args=[Call(func=Attribute(value=Call(func=Name(id='Select', ctx=Load()), args=[Name(id='ClothingItem', ctx=Load())], keywords=[]), attr='where', ctx=Load()), args=[Compare(left=Attribute(value=Name(id='ClothingItem', ctx=Load()), attr='id', ctx=Load()), ops=[Eq()], comparators=[Name(id='clothing_id', ctx=Load())])], keywords=[])], keywords=[]), attr='first', ctx=Load()), args=[], keywords=[]) If Expression: Call(func=Attribute(value=Name(id='db', ctx=Load()), attr='delete', ctx=Load()), args=[Name(id='db_clothing', ctx=Load())], keywords=[]) Expression: Call(func=Attribute(value=Name(id='db', ctx=Load()), attr='commit', ctx=Load()), args=[], keywords=[]) Return: Dict(keys=[], values=[]) def delete_clothing_item(image_url, user_id, db): Expression: Constant(value='\\n    Deletes a clothing based on an image_url\\n    ') Assign: Name(id='db_clothing', ctx=Store()) = Call(func=Attribute(value=Call(func=Attribute(value=Name(id='db', ctx=Load()), attr='scalars', ctx=Load()), args=[Call(func=Attribute(value=Call(func=Attribute(value=Call(func=Name(id='Select', ctx=Load()), args=[Name(id='ClothingItem', ctx=Load())], keywords=[]), attr='join', ctx=Load()), args=[Name(id='ItemImage', ctx=Load())], keywords=[]), attr='where', ctx=Load()), args=[Compare(left=Attribute(value=Name(id='ItemImage', ctx=Load()), attr='url', ctx=Load()), ops=[Eq()], comparators=[Name(id='image_url', ctx=Load())])], keywords=[])], keywords=[]), attr='first', ctx=Load()), args=[], keywords=[]) If Expression: Call(func=Attribute(value=Name(id='db', ctx=Load()), attr='delete', ctx=Load()), args=[Name(id='db_clothing', ctx=Load())], keywords=[]) Expression: Call(func=Attribute(value=Name(id='db', ctx=Load()), attr='commit', ctx=Load()), args=[], keywords=[]) Return: Dict(keys=[], values=[]) def update_clothing_item(clothing_id, clothing_item, db): Expression: Constant(value='\\n    Update a clothing item\\n    ') Assign: Name(id='query', ctx=Store()) = Call(func=Attribute(value=Call(func=Attribute(value=Call(func=Name(id='Update', ctx=Load()), args=[Name(id='ClothingItem', ctx=Load())], keywords=[]), attr='where', ctx=Load()), args=[Compare(left=Attribute(value=Name(id='ClothingItem', ctx=Load()), attr='id', ctx=Load()), ops=[Eq()], comparators=[Name(id='clothing_id', ctx=Load())])], keywords=[]), attr='values', ctx=Load()), args=[], keywords=[keyword(value=Call(func=Attribute(value=Name(id='clothing_item', ctx=Load()), attr='model_dump', ctx=Load()), args=[], keywords=[]))]) Assign: Name(id='result', ctx=Store()) = Call(func=Attribute(value=Name(id='db', ctx=Load()), attr='execute', ctx=Load()), args=[Name(id='query', ctx=Load())], keywords=[]) Expression: Call(func=Attribute(value=Name(id='db', ctx=Load()), attr='commit', ctx=Load()), args=[], keywords=[]) If Return: Dict(keys=[Constant(value='message')], values=[Constant(value='Clothing item updated successfully')]) def update_clothing_item_by_url(image_url, clothing_item, db): Expression: Constant(value='\\n    Update a clothing item based on an image_url\\n    ') Assign: Name(id='db_item_image', ctx=Store()) = Call(func=Attribute(value=Call(func=Attribute(value=Call(func=Attribute(value=Name(id='db', ctx=Load()), attr='query', ctx=Load()), args=[Name(id='ItemImage', ctx=Load())], keywords=[]), attr='filter', ctx=Load()), args=[Compare(left=Attribute(value=Name(id='ItemImage', ctx=Load()), attr='url', ctx=Load()), ops=[Eq()], comparators=[Name(id='image_url', ctx=Load())])], keywords=[]), attr='first', ctx=Load()), args=[], keywords=[]) If Assign: Name(id='clothing_id', ctx=Store()) = Attribute(value=Name(id='db_item_image', ctx=Load()), attr='clothing_item_id', ctx=Load()) Assign: Name(id='query', ctx=Store()) = Call(func=Attribute(value=Call(func=Attribute(value=Call(func=Name(id='Update', ctx=Load()), args=[Name(id='ClothingItem', ctx=Load())], keywords=[]), attr='where', ctx=Load()), args=[Compare(left=Attribute(value=Name(id='ClothingItem', ctx=Load()), attr='id', ctx=Load()), ops=[Eq()], comparators=[Name(id='clothing_id', ctx=Load())])], keywords=[]), attr='values', ctx=Load()), args=[], keywords=[keyword(value=Call(func=Attribute(value=Name(id='clothing_item', ctx=Load()), attr='model_dump', ctx=Load()), args=[], keywords=[keyword(arg='exclude_unset', value=Constant(value=True))]))]) Assign: Name(id='result', ctx=Store()) = Call(func=Attribute(value=Name(id='db', ctx=Load()), attr='execute', ctx=Load()), args=[Name(id='query', ctx=Load())], keywords=[]) Expression: Call(func=Attribute(value=Name(id='db', ctx=Load()), attr='commit', ctx=Load()), args=[], keywords=[]) If Return: Dict(keys=[Constant(value='message')], values=[Constant(value='Clothing item updated successfully')]) def upload_image(file, IMAGEDIR): Assign: Name(id='filename', ctx=Store()) = JoinedStr(values=[FormattedValue(value=Call(func=Name(id='uuid4', ctx=Load()), args=[], keywords=[]), conversion=-1), Constant(value='.'), FormattedValue(value=Subscript(value=Call(func=Attribute(value=Attribute(value=Name(id='file', ctx=Load()), attr='filename', ctx=Load()), attr='split', ctx=Load()), args=[Constant(value='.')], keywords=[]), slice=UnaryOp(op=USub(), operand=Constant(value=1)), ctx=Load()), conversion=-1)]) Assign: Name(id='file_path', ctx=Store()) = Call(func=Attribute(value=Attribute(value=Name(id='os', ctx=Load()), attr='path', ctx=Load()), attr='join', ctx=Load()), args=[Name(id='IMAGEDIR', ctx=Load()), Name(id='filename', ctx=Load())], keywords=[]) With Return: Name(id='filename', ctx=Load()) def add_clothing_item(user_id, name, description, colours, size, type, brand_id, file, db): If Assign: Name(id='type_id', ctx=Store()) = Call(func=Attribute(value=Call(func=Attribute(value=Name(id='db', ctx=Load()), attr='scalars', ctx=Load()), args=[Call(func=Attribute(value=Call(func=Name(id='Select', ctx=Load()), args=[Attribute(value=Name(id='Type', ctx=Load()), attr='id', ctx=Load())], keywords=[]), attr='where', ctx=Load()), args=[Compare(left=Attribute(value=Name(id='Type', ctx=Load()), attr='name', ctx=Load()), ops=[Eq()], comparators=[Name(id='type', ctx=Load())])], keywords=[])], keywords=[]), attr='first', ctx=Load()), args=[], keywords=[]) Assign: Name(id='clothing_item_dict', ctx=Store()) = Dict(keys=[Constant(value='name'), Constant(value='description'), Constant(value='size'), Constant(value='user_id'), Constant(value='type_id'), Constant(value='brand_id')], values=[Name(id='name', ctx=Load()), Name(id='description', ctx=Load()), Name(id='size', ctx=Load()), Name(id='user_id', ctx=Load()), Name(id='type_id', ctx=Load()), Name(id='brand_id', ctx=Load())]) Assign: Name(id='db_clothing_item', ctx=Store()) = Call(func=Name(id='ClothingItem', ctx=Load()), args=[], keywords=[keyword(value=Name(id='clothing_item_dict', ctx=Load()))]) Expression: Call(func=Attribute(value=Name(id='db', ctx=Load()), attr='add', ctx=Load()), args=[Name(id='db_clothing_item', ctx=Load())], keywords=[]) Expression: Call(func=Attribute(value=Name(id='db', ctx=Load()), attr='flush', ctx=Load()), args=[], keywords=[]) Assign: Name(id='image_filename', ctx=Store()) = Call(func=Name(id='upload_image', ctx=Load()), args=[Name(id='file', ctx=Load()), Name(id='IMAGEDIR', ctx=Load())], keywords=[]) Assign: Name(id='db_item_image', ctx=Store()) = Call(func=Name(id='ItemImage', ctx=Load()), args=[], keywords=[keyword(arg='url', value=JoinedStr(values=[FormattedValue(value=Name(id='image_filename', ctx=Load()), conversion=-1)])), keyword(arg='clothing_item', value=Name(id='db_clothing_item', ctx=Load()))]) Expression: Call(func=Attribute(value=Name(id='db', ctx=Load()), attr='add', ctx=Load()), args=[Name(id='db_item_image', ctx=Load())], keywords=[]) Assign: Name(id='colors_list', ctx=Store()) = ListComp(elt=Call(func=Attribute(value=Call(func=Attribute(value=Name(id='color_name', ctx=Load()), attr='strip', ctx=Load()), args=[], keywords=[]), attr='lower', ctx=Load()), args=[], keywords=[]), generators=[comprehension(target=Name(id='color_name', ctx=Store()), iter=Call(func=Attribute(value=Name(id='colours', ctx=Load()), attr='split', ctx=Load()), args=[Constant(value=',')], keywords=[]), ifs=[], is_async=0)]) For Expression: Call(func=Attribute(value=Name(id='db', ctx=Load()), attr='commit', ctx=Load()), args=[], keywords=[]) Expression: Call(func=Attribute(value=Name(id='db', ctx=Load()), attr='refresh', ctx=Load()), args=[Name(id='db_clothing_item', ctx=Load())], keywords=[]) Expression: Call(func=Attribute(value=Name(id='db', ctx=Load()), attr='refresh', ctx=Load()), args=[Name(id='db_item_image', ctx=Load())], keywords=[]) Return: Dict(keys=[Constant(value='clothing_item_id'), Constant(value='clothing_item_name'), Constant(value='image_url')], values=[Attribute(value=Name(id='db_clothing_item', ctx=Load()), attr='id', ctx=Load()), Attribute(value=Name(id='db_clothing_item', ctx=Load()), attr='name', ctx=Load()), Attribute(value=Name(id='db_item_image', ctx=Load()), attr='url', ctx=Load())])\n"
     ]
    }
   ],
   "source": [
    "print(query2_answer[1].metadata['source'])\n",
    "print(query2_answer[1].page_content)"
   ]
  },
  {
   "cell_type": "code",
   "execution_count": 70,
   "metadata": {},
   "outputs": [],
   "source": [
    "query3 = \"get single user details\""
   ]
  },
  {
   "cell_type": "code",
   "execution_count": 71,
   "metadata": {},
   "outputs": [],
   "source": [
    "query3_answer = library.similarity_search(query3, 2)"
   ]
  },
  {
   "cell_type": "code",
   "execution_count": 72,
   "metadata": {},
   "outputs": [
    {
     "name": "stdout",
     "output_type": "stream",
     "text": [
      "Smarderobe\\server\\app\\routers\\user_router.py\n",
      "def list_users(db): Expression: Constant(value='\\n    Fetches all users\\n    ') Assign: Name(id='result', ctx=Store()) = Call(func=Attribute(value=Call(func=Attribute(value=Name(id='db', ctx=Load()), attr='scalars', ctx=Load()), args=[Call(func=Attribute(value=Call(func=Name(id='select', ctx=Load()), args=[Name(id='User', ctx=Load())], keywords=[]), attr='options', ctx=Load()), args=[Call(func=Name(id='selectinload', ctx=Load()), args=[Attribute(value=Name(id='User', ctx=Load()), attr='profile', ctx=Load())], keywords=[])], keywords=[])], keywords=[]), attr='all', ctx=Load()), args=[], keywords=[]) If Return: Name(id='result', ctx=Load()) def get_email_validation_status(user_id, db): Assign: Name(id='query', ctx=Store()) = Call(func=Attribute(value=Call(func=Name(id='select', ctx=Load()), args=[Name(id='User', ctx=Load())], keywords=[]), attr='where', ctx=Load()), args=[Compare(left=Attribute(value=Name(id='User', ctx=Load()), attr='id', ctx=Load()), ops=[Eq()], comparators=[Name(id='user_id', ctx=Load())])], keywords=[]) Assign: Name(id='db_user', ctx=Store()) = Call(func=Attribute(value=Call(func=Attribute(value=Name(id='db', ctx=Load()), attr='scalars', ctx=Load()), args=[Name(id='query', ctx=Load())], keywords=[]), attr='first', ctx=Load()), args=[], keywords=[]) Return: Dict(keys=[Constant(value='verified')], values=[Attribute(value=Name(id='db_user', ctx=Load()), attr='email_verified', ctx=Load())]) def validate_user(token, request, db): Try def reset_password(data, token, db): Try def refresh_token(user_id): Assign: Name(id='token_expiration_time', ctx=Store()) = Call(func=Name(id='timedelta', ctx=Load()), args=[], keywords=[keyword(arg='minutes', value=Constant(value=5))]) Assign: Name(id='token', ctx=Store()) = Call(func=Name(id='create_access_token', ctx=Load()), args=[], keywords=[keyword(arg='user', value=Dict(keys=[Constant(value='id')], values=[Name(id='user_id', ctx=Load())])), keyword(arg='expires_delta', value=Name(id='token_expiration_time', ctx=Load()))]) Return: Dict(keys=[Constant(value='token')], values=[Name(id='token', ctx=Load())]) def list_users(user_id, db): Expression: Constant(value='\\n    Fetches one user based on user_id\\n    ') Assign: Name(id='result', ctx=Store()) = Call(func=Attribute(value=Call(func=Attribute(value=Name(id='db', ctx=Load()), attr='scalars', ctx=Load()), args=[Call(func=Attribute(value=Call(func=Attribute(value=Call(func=Name(id='select', ctx=Load()), args=[Name(id='User', ctx=Load())], keywords=[]), attr='where', ctx=Load()), args=[Compare(left=Attribute(value=Name(id='User', ctx=Load()), attr='id', ctx=Load()), ops=[Eq()], comparators=[Name(id='user_id', ctx=Load())])], keywords=[]), attr='options', ctx=Load()), args=[Call(func=Name(id='selectinload', ctx=Load()), args=[Attribute(value=Name(id='User', ctx=Load()), attr='profile', ctx=Load())], keywords=[])], keywords=[])], keywords=[]), attr='first', ctx=Load()), args=[], keywords=[]) If Return: Name(id='result', ctx=Load()) def delete_users(users_id, db): Expression: Constant(value='\\n    Deletes a user based on an id\\n    ') Assign: Name(id='query', ctx=Store()) = Call(func=Attribute(value=Call(func=Name(id='delete', ctx=Load()), args=[Name(id='User', ctx=Load())], keywords=[]), attr='where', ctx=Load()), args=[Compare(left=Attribute(value=Name(id='User', ctx=Load()), attr='id', ctx=Load()), ops=[Eq()], comparators=[Name(id='users_id', ctx=Load())])], keywords=[]) Expression: Call(func=Attribute(value=Name(id='db', ctx=Load()), attr='execute', ctx=Load()), args=[Name(id='query', ctx=Load())], keywords=[]) Expression: Call(func=Attribute(value=Name(id='db', ctx=Load()), attr='commit', ctx=Load()), args=[], keywords=[]) If\n"
     ]
    }
   ],
   "source": [
    "print(query3_answer[0].metadata['source'])\n",
    "print(query3_answer[0].page_content)"
   ]
  },
  {
   "cell_type": "code",
   "execution_count": 76,
   "metadata": {},
   "outputs": [
    {
     "name": "stdout",
     "output_type": "stream",
     "text": [
      "Smarderobe\\server\\app\\routers\\user_router.py\n",
      "def list_users(db): Expression: Constant(value='\\n    Fetches all users\\n    ') Assign: Name(id='result', ctx=Store()) = Call(func=Attribute(value=Call(func=Attribute(value=Name(id='db', ctx=Load()), attr='scalars', ctx=Load()), args=[Call(func=Attribute(value=Call(func=Name(id='select', ctx=Load()), args=[Name(id='User', ctx=Load())], keywords=[]), attr='options', ctx=Load()), args=[Call(func=Name(id='selectinload', ctx=Load()), args=[Attribute(value=Name(id='User', ctx=Load()), attr='profile', ctx=Load())], keywords=[])], keywords=[])], keywords=[]), attr='all', ctx=Load()), args=[], keywords=[]) If Return: Name(id='result', ctx=Load()) def get_email_validation_status(user_id, db): Assign: Name(id='query', ctx=Store()) = Call(func=Attribute(value=Call(func=Name(id='select', ctx=Load()), args=[Name(id='User', ctx=Load())], keywords=[]), attr='where', ctx=Load()), args=[Compare(left=Attribute(value=Name(id='User', ctx=Load()), attr='id', ctx=Load()), ops=[Eq()], comparators=[Name(id='user_id', ctx=Load())])], keywords=[]) Assign: Name(id='db_user', ctx=Store()) = Call(func=Attribute(value=Call(func=Attribute(value=Name(id='db', ctx=Load()), attr='scalars', ctx=Load()), args=[Name(id='query', ctx=Load())], keywords=[]), attr='first', ctx=Load()), args=[], keywords=[]) Return: Dict(keys=[Constant(value='verified')], values=[Attribute(value=Name(id='db_user', ctx=Load()), attr='email_verified', ctx=Load())]) def validate_user(token, request, db): Try def reset_password(data, token, db): Try def refresh_token(user_id): Assign: Name(id='token_expiration_time', ctx=Store()) = Call(func=Name(id='timedelta', ctx=Load()), args=[], keywords=[keyword(arg='minutes', value=Constant(value=5))]) Assign: Name(id='token', ctx=Store()) = Call(func=Name(id='create_access_token', ctx=Load()), args=[], keywords=[keyword(arg='user', value=Dict(keys=[Constant(value='id')], values=[Name(id='user_id', ctx=Load())])), keyword(arg='expires_delta', value=Name(id='token_expiration_time', ctx=Load()))]) Return: Dict(keys=[Constant(value='token')], values=[Name(id='token', ctx=Load())]) def list_users(user_id, db): Expression: Constant(value='\\n    Fetches one user based on user_id\\n    ') Assign: Name(id='result', ctx=Store()) = Call(func=Attribute(value=Call(func=Attribute(value=Name(id='db', ctx=Load()), attr='scalars', ctx=Load()), args=[Call(func=Attribute(value=Call(func=Attribute(value=Call(func=Name(id='select', ctx=Load()), args=[Name(id='User', ctx=Load())], keywords=[]), attr='where', ctx=Load()), args=[Compare(left=Attribute(value=Name(id='User', ctx=Load()), attr='id', ctx=Load()), ops=[Eq()], comparators=[Name(id='user_id', ctx=Load())])], keywords=[]), attr='options', ctx=Load()), args=[Call(func=Name(id='selectinload', ctx=Load()), args=[Attribute(value=Name(id='User', ctx=Load()), attr='profile', ctx=Load())], keywords=[])], keywords=[])], keywords=[]), attr='first', ctx=Load()), args=[], keywords=[]) If Return: Name(id='result', ctx=Load()) def delete_users(users_id, db): Expression: Constant(value='\\n    Deletes a user based on an id\\n    ') Assign: Name(id='query', ctx=Store()) = Call(func=Attribute(value=Call(func=Name(id='delete', ctx=Load()), args=[Name(id='User', ctx=Load())], keywords=[]), attr='where', ctx=Load()), args=[Compare(left=Attribute(value=Name(id='User', ctx=Load()), attr='id', ctx=Load()), ops=[Eq()], comparators=[Name(id='users_id', ctx=Load())])], keywords=[]) Expression: Call(func=Attribute(value=Name(id='db', ctx=Load()), attr='execute', ctx=Load()), args=[Name(id='query', ctx=Load())], keywords=[]) Expression: Call(func=Attribute(value=Name(id='db', ctx=Load()), attr='commit', ctx=Load()), args=[], keywords=[]) If\n",
      "\n",
      "\n",
      "Smarderobe\\server\\app\\routers\\login_router.py\n",
      "def delete_user(login_id, db): Expression: Constant(value='\\n    Hard delete of an users login\\n    ') Assign: Name(id='query', ctx=Store()) = Call(func=Attribute(value=Call(func=Name(id='delete', ctx=Load()), args=[Name(id='User', ctx=Load())], keywords=[]), attr='where', ctx=Load()), args=[Compare(left=Attribute(value=Name(id='User', ctx=Load()), attr='id', ctx=Load()), ops=[Eq()], comparators=[Name(id='login_id', ctx=Load())])], keywords=[]) Assign: Name(id='result', ctx=Store()) = Call(func=Attribute(value=Name(id='db', ctx=Load()), attr='execute', ctx=Load()), args=[Name(id='query', ctx=Load())], keywords=[]) Expression: Call(func=Attribute(value=Name(id='db', ctx=Load()), attr='commit', ctx=Load()), args=[], keywords=[]) If def deactivate_user(user_id, db): Expression: Constant(value='\\n    Soft delete of a users profile by setting is_active to False.\\n    ') Assign: Name(id='query', ctx=Store()) = Call(func=Attribute(value=Call(func=Attribute(value=Call(func=Name(id='update', ctx=Load()), args=[Name(id='User', ctx=Load())], keywords=[]), attr='where', ctx=Load()), args=[Compare(left=Attribute(value=Name(id='User', ctx=Load()), attr='id', ctx=Load()), ops=[Eq()], comparators=[Name(id='user_id', ctx=Load())])], keywords=[]), attr='values', ctx=Load()), args=[], keywords=[keyword(arg='is_active', value=Constant(value=False))]) Assign: Name(id='result', ctx=Store()) = Call(func=Attribute(value=Name(id='db', ctx=Load()), attr='execute', ctx=Load()), args=[Name(id='query', ctx=Load())], keywords=[]) Expression: Call(func=Attribute(value=Name(id='db', ctx=Load()), attr='commit', ctx=Load()), args=[], keywords=[]) If Return: Dict(keys=[Constant(value='message')], values=[Constant(value='User deactivated successfully')])\n",
      "\n",
      "\n"
     ]
    }
   ],
   "source": [
    "for answer in query3_answer:\n",
    "    print(answer.metadata[\"source\"])\n",
    "    print(answer.page_content)\n",
    "    print(\"\\n\")"
   ]
  }
 ],
 "metadata": {
  "kernelspec": {
   "display_name": ".venv",
   "language": "python",
   "name": "python3"
  },
  "language_info": {
   "codemirror_mode": {
    "name": "ipython",
    "version": 3
   },
   "file_extension": ".py",
   "mimetype": "text/x-python",
   "name": "python",
   "nbconvert_exporter": "python",
   "pygments_lexer": "ipython3",
   "version": "3.11.5"
  }
 },
 "nbformat": 4,
 "nbformat_minor": 2
}
