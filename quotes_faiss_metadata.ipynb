{
 "cells": [
  {
   "cell_type": "code",
   "execution_count": 9,
   "metadata": {},
   "outputs": [],
   "source": [
    "quotes = [\n",
    "    \"Talk is cheap. Show me the code. - Linus Torvalds\",\n",
    "    \"Programs must be written for people to read, and only incidentally for machines to execute. - Harold Abelson\",\n",
    "    \"Any fool can write code that a computer can understand. Good programmers write code that humans can understand. - Martin Fowler\",\n",
    "    \"Simplicity is the soul of efficiency. - Austin Freeman\",\n",
    "    \"Before software can be reusable it first has to be usable. - Ralph Johnson\",\n",
    "    \"In theory, theory and practice are the same. In practice, they're not. - Yogi Berra\",\n",
    "    \"Software is like entropy: It is difficult to grasp, weighs nothing, and obeys the Second Law of Thermodynamics; i.e., it always increases. - Norman Augustine\",\n",
    "    \"It's not a bug - it's an undocumented feature. - Anonymous\",\n",
    "    \"One man's crappy software is another man's full-time job. - Jessica Gaston\",\n",
    "    \"A good programmer is someone who always looks both ways before crossing a one-way street. - Doug Linder\",\n",
    "    \"Life is what happens when you're busy making other plans. - John Lennon\",\n",
    "    \"Get busy living or get busy dying. - Stephen King\",\n",
    "    \"You only live once, but if you do it right, once is enough. - Mae West\",\n",
    "    \"Many of life's failures are people who did not realize how close they were to success when they gave up. - Thomas A. Edison\",\n",
    "    \"If life were predictable it would cease to be life, and be without flavor. - Eleanor Roosevelt\",\n",
    "    \"The only impossible journey is the one you never begin. - Tony Robbins\",\n",
    "    \"In the end, it's not the years in your life that count. It's the life in your years. - Abraham Lincoln\",\n",
    "    \"Life is 10% what happens to us and 90% how we react to it. - Charles R. Swindoll\",\n",
    "    \"Only a life lived for others is a life worthwhile. - Albert Einstein\",\n",
    "    \"You have within you right now, everything you need to deal with whatever the world can throw at you. - Brian Tracy\",\n",
    "    \"Look deep into nature, and then you will understand everything better. - Albert Einstein\",\n",
    "    \"The mountains are calling and I must go. - John Muir\",\n",
    "    \"In every walk with nature, one receives far more than he seeks. - John Muir\",\n",
    "    \"The clearest way into the Universe is through a forest wilderness. - John Muir\",\n",
    "    \"Nature does not hurry, yet everything is accomplished. - Lao Tzu\",\n",
    "    \"The sea, once it casts its spell, holds one in its net of wonder forever. - Jacques Cousteau\",\n",
    "    \"The ocean is a mighty harmonist. - William Wordsworth\",\n",
    "    \"To me, the sea is a continual miracle; The fishes that swim-the rocks-the motion of the waves-the ships, with men in them, What stranger miracles are there? - Walt Whitman\",\n",
    "    \"Mountains are not stadiums where I satisfy my ambition to achieve, they are the cathedrals where I practice my religion. - Anatoli Boukreev\",\n",
    "    \"He who climbs upon the highest mountains laughs at all tragedies, real or imaginary. - Friedrich Nietzsche\",\n",
    "    \"Forests are the lungs of our land, purifying the air and giving fresh strength to our people. - Franklin D. Roosevelt\",\n",
    "    \"The woods are lovely, dark and deep, But I have promises to keep, And miles to go before I sleep. - Robert Frost\",\n",
    "    \"Trees are poems that the earth writes upon the sky. - Khalil Gibran\",\n",
    "    \"Choose only one master-nature. - Rembrandt\",\n",
    "    \"Wilderness is not a luxury but a necessity of the human spirit. - Edward Abbey\",\n",
    "    \"The goal of life is living in agreement with nature. - Zeno\",\n",
    "    \"The universe is not required to be in perfect harmony with human ambition. - Carl Sagan\",\n",
    "    \"Two things are infinite: the universe and human stupidity; and I'm not sure about the universe. - Albert Einstein\",\n",
    "    \"The universe seems neither benign nor hostile, merely indifferent. - Carl Sagan\",\n",
    "    \"Somewhere, something incredible is waiting to be known. - Carl Sagan\",\n",
    "    \"Do not feel lonely, the entire universe is inside you. - Rumi\",\n",
    "    \"To the mind that is still, the whole universe surrenders. - Lao Tzu\",\n",
    "    \"The cosmos is within us. We are made of star-stuff. We are a way for the universe to know itself. - Carl Sagan\",\n",
    "    \"Follow your bliss and the universe will open doors for you where there were only walls. - Joseph Campbell\",\n",
    "    \"The universe is full of magical things patiently waiting for our wits to grow sharper. - Eden Phillpotts\",\n",
    "    \"Be curious, not judgmental. - Walt Whitman\",\n",
    "    \"We are just an advanced breed of monkeys on a minor planet of a very average star. But we can understand the Universe. That makes us something very special. - Stephen Hawking\",\n",
    "    \"Look up at the stars and not down at your feet. Try to make sense of what you see, and wonder about what makes the universe exist. Be curious. - Stephen Hawking\",\n",
    "    \"For small creatures such as we the vastness is bearable only through love. - Carl Sagan\",\n",
    "    \"We do not inherit the earth from our ancestors, we borrow it from our children. - Native American Proverb\",\n",
    "    \"The earth has music for those who listen. - William Shakespeare\",\n",
    "    \"The only thing that will redeem mankind is cooperation. - Bertrand Russell\",\n",
    "    \"We are all in the gutter, but some of us are looking at the stars. - Oscar Wilde\",\n",
    "    \"The best view comes after the hardest climb. - Unknown\",\n",
    "    \"Nature always wears the colors of the spirit. - Ralph Waldo Emerson\",\n",
    "    \"An understanding of the natural world and what's in it is a source of not only a great curiosity but great fulfillment. - David Attenborough\",\n",
    "    \"The fairest thing in nature, a flower, still has its roots in earth and manure. - D. H. Lawrence\",\n",
    "    \"Over every mountain there is a path, although it may not be seen from the valley. - Theodore Roethke\",\n",
    "    \"The sea, once it casts its spell, holds one in its net of wonder forever. - Jacques Yves Cousteau\",\n",
    "    \"I felt my lungs inflate with the onrush of scenery-air, mountains, trees, people. I thought, 'This is what it is to be happy.' - Sylvia Plath\",\n",
    "    \"The best remedy for those who are afraid, lonely or unhappy is to go outside, somewhere where they can be quiet, alone with the heavens, nature and God. - Anne Frank\",\n",
    "    \"The forest makes your heart gentle. You become one with it... No place for greed or anger there. - Pha Pachak\",\n",
    "    \"In every outthrust headland, in every curving beach, in every grain of sand there is the story of the earth. - Rachel Carson\",\n",
    "    \"Forget not that the earth delights to feel your bare feet and the winds long to play with your hair. - Khalil Gibran\",\n",
    "    \"The wilderness holds answers to questions man has not yet learned to ask. - Nancy Newhall\",\n",
    "    \"A walk in nature walks the soul back home. - Mary Davis\",\n",
    "    \"Going to the mountains is like going home. - John Muir\",\n",
    "    \"The creation of a thousand forests is in one acorn. - Ralph Waldo Emerson\",\n",
    "    \"Time spent amongst trees is never wasted time. - Katrina Mayer\",\n",
    "    \"I go to nature to be soothed and healed, and to have my senses put in order. - John Burroughs\",\n",
    "    \"What you do makes a difference, and you have to decide what kind of difference you want to make. - Jane Goodall\",\n",
    "    \"Nature does not bestow virtue; to be good is an art. - Seneca\",\n",
    "    \"Nature is not a place to visit. It is home. - Gary Snyder\",\n",
    "    \"The poetry of the earth is never dead. - John Keats\",\n",
    "    \"The earth laughs in flowers. - Ralph Waldo Emerson\",\n",
    "    \"Not just beautiful, though-the stars are like the trees in the forest, alive and breathing. And they're watching me. - Haruki Murakami\",\n",
    "    \"What we are doing to the forests of the world is but a mirror reflection of what we are doing to ourselves and to one another. - Mahatma Gandhi\",\n",
    "    \"This world is but a canvas to our imagination. - Henry David Thoreau\",\n",
    "    \"Adopt the pace of nature: her secret is patience. - Ralph Waldo Emerson\",\n",
    "    \"Every flower is a soul blossoming in nature. - Gerard De Nerval\",\n",
    "    \"Deep in their roots, all flowers keep the light. - Theodore Roethke\",\n",
    "    \"The mountains are calling and I must go, and I will work on while I can, studying incessantly. - John Muir\"\n",
    "]"
   ]
  },
  {
   "cell_type": "code",
   "execution_count": 10,
   "metadata": {},
   "outputs": [
    {
     "name": "stdout",
     "output_type": "stream",
     "text": [
      "Requirement already satisfied: langchain-community in c:\\users\\khale\\machine_learning\\.venv\\lib\\site-packages (0.2.0)\n",
      "Requirement already satisfied: pinecone-client in c:\\users\\khale\\machine_learning\\.venv\\lib\\site-packages (4.1.0)\n",
      "Requirement already satisfied: openai in c:\\users\\khale\\machine_learning\\.venv\\lib\\site-packages (1.30.1)\n",
      "Requirement already satisfied: tiktoken in c:\\users\\khale\\machine_learning\\.venv\\lib\\site-packages (0.7.0)\n",
      "Requirement already satisfied: ipywidgets in c:\\users\\khale\\machine_learning\\.venv\\lib\\site-packages (8.1.2)\n",
      "Requirement already satisfied: langchain-openai in c:\\users\\khale\\machine_learning\\.venv\\lib\\site-packages (0.1.7)\n",
      "Requirement already satisfied: PyYAML>=5.3 in c:\\users\\khale\\machine_learning\\.venv\\lib\\site-packages (from langchain-community) (6.0.1)\n",
      "Requirement already satisfied: SQLAlchemy<3,>=1.4 in c:\\users\\khale\\machine_learning\\.venv\\lib\\site-packages (from langchain-community) (2.0.30)\n",
      "Requirement already satisfied: aiohttp<4.0.0,>=3.8.3 in c:\\users\\khale\\machine_learning\\.venv\\lib\\site-packages (from langchain-community) (3.9.5)\n",
      "Requirement already satisfied: dataclasses-json<0.7,>=0.5.7 in c:\\users\\khale\\machine_learning\\.venv\\lib\\site-packages (from langchain-community) (0.6.6)\n",
      "Requirement already satisfied: langchain<0.3.0,>=0.2.0 in c:\\users\\khale\\machine_learning\\.venv\\lib\\site-packages (from langchain-community) (0.2.0)\n",
      "Requirement already satisfied: langchain-core<0.3.0,>=0.2.0 in c:\\users\\khale\\machine_learning\\.venv\\lib\\site-packages (from langchain-community) (0.2.0)\n",
      "Requirement already satisfied: langsmith<0.2.0,>=0.1.0 in c:\\users\\khale\\machine_learning\\.venv\\lib\\site-packages (from langchain-community) (0.1.60)\n",
      "Requirement already satisfied: numpy<2,>=1 in c:\\users\\khale\\machine_learning\\.venv\\lib\\site-packages (from langchain-community) (1.26.4)\n",
      "Requirement already satisfied: requests<3,>=2 in c:\\users\\khale\\machine_learning\\.venv\\lib\\site-packages (from langchain-community) (2.32.2)\n",
      "Requirement already satisfied: tenacity<9.0.0,>=8.1.0 in c:\\users\\khale\\machine_learning\\.venv\\lib\\site-packages (from langchain-community) (8.3.0)\n",
      "Requirement already satisfied: certifi>=2019.11.17 in c:\\users\\khale\\machine_learning\\.venv\\lib\\site-packages (from pinecone-client) (2024.2.2)\n",
      "Requirement already satisfied: tqdm>=4.64.1 in c:\\users\\khale\\machine_learning\\.venv\\lib\\site-packages (from pinecone-client) (4.66.4)\n",
      "Requirement already satisfied: typing-extensions>=3.7.4 in c:\\users\\khale\\machine_learning\\.venv\\lib\\site-packages (from pinecone-client) (4.11.0)\n",
      "Requirement already satisfied: urllib3>=1.26.0 in c:\\users\\khale\\machine_learning\\.venv\\lib\\site-packages (from pinecone-client) (2.2.1)\n",
      "Requirement already satisfied: anyio<5,>=3.5.0 in c:\\users\\khale\\machine_learning\\.venv\\lib\\site-packages (from openai) (4.3.0)\n",
      "Requirement already satisfied: distro<2,>=1.7.0 in c:\\users\\khale\\machine_learning\\.venv\\lib\\site-packages (from openai) (1.9.0)\n",
      "Requirement already satisfied: httpx<1,>=0.23.0 in c:\\users\\khale\\machine_learning\\.venv\\lib\\site-packages (from openai) (0.27.0)\n",
      "Requirement already satisfied: pydantic<3,>=1.9.0 in c:\\users\\khale\\machine_learning\\.venv\\lib\\site-packages (from openai) (2.7.1)\n",
      "Requirement already satisfied: sniffio in c:\\users\\khale\\machine_learning\\.venv\\lib\\site-packages (from openai) (1.3.1)\n",
      "Requirement already satisfied: regex>=2022.1.18 in c:\\users\\khale\\machine_learning\\.venv\\lib\\site-packages (from tiktoken) (2024.5.15)\n",
      "Requirement already satisfied: comm>=0.1.3 in c:\\users\\khale\\machine_learning\\.venv\\lib\\site-packages (from ipywidgets) (0.2.2)\n",
      "Requirement already satisfied: ipython>=6.1.0 in c:\\users\\khale\\machine_learning\\.venv\\lib\\site-packages (from ipywidgets) (8.24.0)\n",
      "Requirement already satisfied: traitlets>=4.3.1 in c:\\users\\khale\\machine_learning\\.venv\\lib\\site-packages (from ipywidgets) (5.14.3)\n",
      "Requirement already satisfied: widgetsnbextension~=4.0.10 in c:\\users\\khale\\machine_learning\\.venv\\lib\\site-packages (from ipywidgets) (4.0.10)\n",
      "Requirement already satisfied: jupyterlab-widgets~=3.0.10 in c:\\users\\khale\\machine_learning\\.venv\\lib\\site-packages (from ipywidgets) (3.0.10)\n",
      "Requirement already satisfied: aiosignal>=1.1.2 in c:\\users\\khale\\machine_learning\\.venv\\lib\\site-packages (from aiohttp<4.0.0,>=3.8.3->langchain-community) (1.3.1)\n",
      "Requirement already satisfied: attrs>=17.3.0 in c:\\users\\khale\\machine_learning\\.venv\\lib\\site-packages (from aiohttp<4.0.0,>=3.8.3->langchain-community) (23.2.0)\n",
      "Requirement already satisfied: frozenlist>=1.1.1 in c:\\users\\khale\\machine_learning\\.venv\\lib\\site-packages (from aiohttp<4.0.0,>=3.8.3->langchain-community) (1.4.1)\n",
      "Requirement already satisfied: multidict<7.0,>=4.5 in c:\\users\\khale\\machine_learning\\.venv\\lib\\site-packages (from aiohttp<4.0.0,>=3.8.3->langchain-community) (6.0.5)\n",
      "Requirement already satisfied: yarl<2.0,>=1.0 in c:\\users\\khale\\machine_learning\\.venv\\lib\\site-packages (from aiohttp<4.0.0,>=3.8.3->langchain-community) (1.9.4)\n",
      "Requirement already satisfied: idna>=2.8 in c:\\users\\khale\\machine_learning\\.venv\\lib\\site-packages (from anyio<5,>=3.5.0->openai) (3.7)\n",
      "Requirement already satisfied: marshmallow<4.0.0,>=3.18.0 in c:\\users\\khale\\machine_learning\\.venv\\lib\\site-packages (from dataclasses-json<0.7,>=0.5.7->langchain-community) (3.21.2)\n",
      "Requirement already satisfied: typing-inspect<1,>=0.4.0 in c:\\users\\khale\\machine_learning\\.venv\\lib\\site-packages (from dataclasses-json<0.7,>=0.5.7->langchain-community) (0.9.0)\n",
      "Requirement already satisfied: httpcore==1.* in c:\\users\\khale\\machine_learning\\.venv\\lib\\site-packages (from httpx<1,>=0.23.0->openai) (1.0.5)\n",
      "Requirement already satisfied: h11<0.15,>=0.13 in c:\\users\\khale\\machine_learning\\.venv\\lib\\site-packages (from httpcore==1.*->httpx<1,>=0.23.0->openai) (0.14.0)\n",
      "Requirement already satisfied: decorator in c:\\users\\khale\\machine_learning\\.venv\\lib\\site-packages (from ipython>=6.1.0->ipywidgets) (5.1.1)\n",
      "Requirement already satisfied: jedi>=0.16 in c:\\users\\khale\\machine_learning\\.venv\\lib\\site-packages (from ipython>=6.1.0->ipywidgets) (0.19.1)\n",
      "Requirement already satisfied: matplotlib-inline in c:\\users\\khale\\machine_learning\\.venv\\lib\\site-packages (from ipython>=6.1.0->ipywidgets) (0.1.7)\n",
      "Requirement already satisfied: prompt-toolkit<3.1.0,>=3.0.41 in c:\\users\\khale\\machine_learning\\.venv\\lib\\site-packages (from ipython>=6.1.0->ipywidgets) (3.0.43)\n",
      "Requirement already satisfied: pygments>=2.4.0 in c:\\users\\khale\\machine_learning\\.venv\\lib\\site-packages (from ipython>=6.1.0->ipywidgets) (2.18.0)\n",
      "Requirement already satisfied: stack-data in c:\\users\\khale\\machine_learning\\.venv\\lib\\site-packages (from ipython>=6.1.0->ipywidgets) (0.6.3)\n",
      "Requirement already satisfied: colorama in c:\\users\\khale\\machine_learning\\.venv\\lib\\site-packages (from ipython>=6.1.0->ipywidgets) (0.4.6)\n",
      "Requirement already satisfied: langchain-text-splitters<0.3.0,>=0.2.0 in c:\\users\\khale\\machine_learning\\.venv\\lib\\site-packages (from langchain<0.3.0,>=0.2.0->langchain-community) (0.2.0)\n",
      "Requirement already satisfied: jsonpatch<2.0,>=1.33 in c:\\users\\khale\\machine_learning\\.venv\\lib\\site-packages (from langchain-core<0.3.0,>=0.2.0->langchain-community) (1.33)\n",
      "Requirement already satisfied: packaging<24.0,>=23.2 in c:\\users\\khale\\machine_learning\\.venv\\lib\\site-packages (from langchain-core<0.3.0,>=0.2.0->langchain-community) (23.2)\n",
      "Requirement already satisfied: orjson<4.0.0,>=3.9.14 in c:\\users\\khale\\machine_learning\\.venv\\lib\\site-packages (from langsmith<0.2.0,>=0.1.0->langchain-community) (3.10.3)\n",
      "Requirement already satisfied: annotated-types>=0.4.0 in c:\\users\\khale\\machine_learning\\.venv\\lib\\site-packages (from pydantic<3,>=1.9.0->openai) (0.7.0)\n",
      "Requirement already satisfied: pydantic-core==2.18.2 in c:\\users\\khale\\machine_learning\\.venv\\lib\\site-packages (from pydantic<3,>=1.9.0->openai) (2.18.2)\n",
      "Requirement already satisfied: charset-normalizer<4,>=2 in c:\\users\\khale\\machine_learning\\.venv\\lib\\site-packages (from requests<3,>=2->langchain-community) (3.3.2)\n",
      "Requirement already satisfied: greenlet!=0.4.17 in c:\\users\\khale\\machine_learning\\.venv\\lib\\site-packages (from SQLAlchemy<3,>=1.4->langchain-community) (3.0.3)\n",
      "Requirement already satisfied: parso<0.9.0,>=0.8.3 in c:\\users\\khale\\machine_learning\\.venv\\lib\\site-packages (from jedi>=0.16->ipython>=6.1.0->ipywidgets) (0.8.4)\n",
      "Requirement already satisfied: jsonpointer>=1.9 in c:\\users\\khale\\machine_learning\\.venv\\lib\\site-packages (from jsonpatch<2.0,>=1.33->langchain-core<0.3.0,>=0.2.0->langchain-community) (2.4)\n",
      "Requirement already satisfied: wcwidth in c:\\users\\khale\\machine_learning\\.venv\\lib\\site-packages (from prompt-toolkit<3.1.0,>=3.0.41->ipython>=6.1.0->ipywidgets) (0.2.13)\n",
      "Requirement already satisfied: mypy-extensions>=0.3.0 in c:\\users\\khale\\machine_learning\\.venv\\lib\\site-packages (from typing-inspect<1,>=0.4.0->dataclasses-json<0.7,>=0.5.7->langchain-community) (1.0.0)\n",
      "Requirement already satisfied: executing>=1.2.0 in c:\\users\\khale\\machine_learning\\.venv\\lib\\site-packages (from stack-data->ipython>=6.1.0->ipywidgets) (2.0.1)\n",
      "Requirement already satisfied: asttokens>=2.1.0 in c:\\users\\khale\\machine_learning\\.venv\\lib\\site-packages (from stack-data->ipython>=6.1.0->ipywidgets) (2.4.1)\n",
      "Requirement already satisfied: pure-eval in c:\\users\\khale\\machine_learning\\.venv\\lib\\site-packages (from stack-data->ipython>=6.1.0->ipywidgets) (0.2.2)\n",
      "Requirement already satisfied: six>=1.12.0 in c:\\users\\khale\\machine_learning\\.venv\\lib\\site-packages (from asttokens>=2.1.0->stack-data->ipython>=6.1.0->ipywidgets) (1.16.0)\n",
      "Note: you may need to restart the kernel to use updated packages.\n"
     ]
    }
   ],
   "source": [
    "pip install -U langchain-community pinecone-client openai tiktoken ipywidgets -U langchain-openai\n"
   ]
  },
  {
   "cell_type": "code",
   "execution_count": 12,
   "metadata": {},
   "outputs": [],
   "source": [
    "from langchain_openai import OpenAIEmbeddings\n",
    "from langchain_community.vectorstores import FAISS\n",
    "from dotenv import load_dotenv\n",
    "import os\n",
    "\n",
    "\n"
   ]
  },
  {
   "cell_type": "code",
   "execution_count": null,
   "metadata": {},
   "outputs": [],
   "source": [
    "# Load the environment variables from .env file\n",
    "load_dotenv()\n",
    "OPENAI_API_KEY = os.getenv('OPENAI_API_KEY')\n",
    "\n",
    "EMBEDDINGS_SIZE_LARGE = 3072\n",
    "EMBEDDINGS_SIZE_SMALL = 1536"
   ]
  },
  {
   "cell_type": "code",
   "execution_count": 14,
   "metadata": {},
   "outputs": [],
   "source": [
    "embeddings = OpenAIEmbeddings( model =\"text-embedding-3-large\", openai_api_key=OPENAI_API_KEY)\n"
   ]
  },
  {
   "cell_type": "code",
   "execution_count": 15,
   "metadata": {},
   "outputs": [],
   "source": [
    "embeddings_docs  = []\n",
    "for quote in quotes:\n",
    "    dict = {}\n",
    "    dict[\"page_content\"] = quote\n",
    "    dict[\"metadata\"] = {\"source\": \"local_file\"}\n",
    "    embeddings_docs.append(dict)"
   ]
  },
  {
   "cell_type": "code",
   "execution_count": 42,
   "metadata": {},
   "outputs": [],
   "source": [
    "# Function to initialize a FAISS vector store from documents\n",
    "def create_faiss_library(documents):\n",
    "    texts = [d['page_content'] for d in documents]\n",
    "    metadatas = [d['metadata'] for d in documents]\n",
    "    # Adjust the following line if the FAISS library API differs\n",
    "    return FAISS.from_texts(texts,  metadatas=metadatas, embedding=embeddings)"
   ]
  },
  {
   "cell_type": "code",
   "execution_count": 43,
   "metadata": {},
   "outputs": [],
   "source": [
    "library = create_faiss_library(embeddings_docs)\n"
   ]
  },
  {
   "cell_type": "code",
   "execution_count": 44,
   "metadata": {},
   "outputs": [],
   "source": [
    "query = \"What is mountains like?\""
   ]
  },
  {
   "cell_type": "code",
   "execution_count": 45,
   "metadata": {},
   "outputs": [],
   "source": [
    "query_answer = library.similarity_search(query, 5)"
   ]
  },
  {
   "cell_type": "code",
   "execution_count": 47,
   "metadata": {},
   "outputs": [
    {
     "name": "stdout",
     "output_type": "stream",
     "text": [
      "5\n"
     ]
    }
   ],
   "source": [
    "print(len(query_answer))"
   ]
  },
  {
   "cell_type": "code",
   "execution_count": 51,
   "metadata": {},
   "outputs": [
    {
     "name": "stdout",
     "output_type": "stream",
     "text": [
      "page_content='Going to the mountains is like going home. - John Muir' metadata={'source': 'local_file'}\n"
     ]
    }
   ],
   "source": [
    "print(query_answer[0])"
   ]
  },
  {
   "cell_type": "code",
   "execution_count": 54,
   "metadata": {},
   "outputs": [
    {
     "name": "stdout",
     "output_type": "stream",
     "text": [
      "Going to the mountains is like going home. - John Muir\n",
      "\n",
      "\n",
      "Mountains are not stadiums where I satisfy my ambition to achieve, they are the cathedrals where I practice my religion. - Anatoli Boukreev\n",
      "\n",
      "\n",
      "The mountains are calling and I must go. - John Muir\n",
      "\n",
      "\n",
      "Over every mountain there is a path, although it may not be seen from the valley. - Theodore Roethke\n",
      "\n",
      "\n",
      "The mountains are calling and I must go, and I will work on while I can, studying incessantly. - John Muir\n",
      "\n",
      "\n"
     ]
    }
   ],
   "source": [
    "for answer in query_answer:\n",
    "    print(answer.page_content)\n",
    "    print(\"\\n\")"
   ]
  }
 ],
 "metadata": {
  "kernelspec": {
   "display_name": ".venv",
   "language": "python",
   "name": "python3"
  },
  "language_info": {
   "codemirror_mode": {
    "name": "ipython",
    "version": 3
   },
   "file_extension": ".py",
   "mimetype": "text/x-python",
   "name": "python",
   "nbconvert_exporter": "python",
   "pygments_lexer": "ipython3",
   "version": "3.11.5"
  }
 },
 "nbformat": 4,
 "nbformat_minor": 2
}
