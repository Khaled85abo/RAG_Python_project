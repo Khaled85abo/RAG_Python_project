{
 "cells": [
  {
   "cell_type": "code",
   "execution_count": 6,
   "metadata": {},
   "outputs": [],
   "source": [
    "quotes = [\n",
    "    \"Talk is cheap. Show me the code. - Linus Torvalds\",\n",
    "    \"Programs must be written for people to read, and only incidentally for machines to execute. - Harold Abelson\",\n",
    "    \"Any fool can write code that a computer can understand. Good programmers write code that humans can understand. - Martin Fowler\",\n",
    "    \"Simplicity is the soul of efficiency. - Austin Freeman\",\n",
    "    \"Before software can be reusable it first has to be usable. - Ralph Johnson\",\n",
    "    \"In theory, theory and practice are the same. In practice, they're not. - Yogi Berra\",\n",
    "    \"Software is like entropy: It is difficult to grasp, weighs nothing, and obeys the Second Law of Thermodynamics; i.e., it always increases. - Norman Augustine\",\n",
    "    \"It's not a bug - it's an undocumented feature. - Anonymous\",\n",
    "    \"One man's crappy software is another man's full-time job. - Jessica Gaston\",\n",
    "    \"A good programmer is someone who always looks both ways before crossing a one-way street. - Doug Linder\",\n",
    "    \"Life is what happens when you're busy making other plans. - John Lennon\",\n",
    "    \"Get busy living or get busy dying. - Stephen King\",\n",
    "    \"You only live once, but if you do it right, once is enough. - Mae West\",\n",
    "    \"Many of life's failures are people who did not realize how close they were to success when they gave up. - Thomas A. Edison\",\n",
    "    \"If life were predictable it would cease to be life, and be without flavor. - Eleanor Roosevelt\",\n",
    "    \"The only impossible journey is the one you never begin. - Tony Robbins\",\n",
    "    \"In the end, it's not the years in your life that count. It's the life in your years. - Abraham Lincoln\",\n",
    "    \"Life is 10% what happens to us and 90% how we react to it. - Charles R. Swindoll\",\n",
    "    \"Only a life lived for others is a life worthwhile. - Albert Einstein\",\n",
    "    \"You have within you right now, everything you need to deal with whatever the world can throw at you. - Brian Tracy\",\n",
    "    \"Look deep into nature, and then you will understand everything better. - Albert Einstein\",\n",
    "    \"The mountains are calling and I must go. - John Muir\",\n",
    "    \"In every walk with nature, one receives far more than he seeks. - John Muir\",\n",
    "    \"The clearest way into the Universe is through a forest wilderness. - John Muir\",\n",
    "    \"Nature does not hurry, yet everything is accomplished. - Lao Tzu\",\n",
    "    \"The sea, once it casts its spell, holds one in its net of wonder forever. - Jacques Cousteau\",\n",
    "    \"The ocean is a mighty harmonist. - William Wordsworth\",\n",
    "    \"To me, the sea is a continual miracle; The fishes that swim-the rocks-the motion of the waves-the ships, with men in them, What stranger miracles are there? - Walt Whitman\",\n",
    "    \"Mountains are not stadiums where I satisfy my ambition to achieve, they are the cathedrals where I practice my religion. - Anatoli Boukreev\",\n",
    "    \"He who climbs upon the highest mountains laughs at all tragedies, real or imaginary. - Friedrich Nietzsche\",\n",
    "    \"Forests are the lungs of our land, purifying the air and giving fresh strength to our people. - Franklin D. Roosevelt\",\n",
    "    \"The woods are lovely, dark and deep, But I have promises to keep, And miles to go before I sleep. - Robert Frost\",\n",
    "    \"Trees are poems that the earth writes upon the sky. - Khalil Gibran\",\n",
    "    \"Choose only one master-nature. - Rembrandt\",\n",
    "    \"Wilderness is not a luxury but a necessity of the human spirit. - Edward Abbey\",\n",
    "    \"The goal of life is living in agreement with nature. - Zeno\",\n",
    "    \"The universe is not required to be in perfect harmony with human ambition. - Carl Sagan\",\n",
    "    \"Two things are infinite: the universe and human stupidity; and I'm not sure about the universe. - Albert Einstein\",\n",
    "    \"The universe seems neither benign nor hostile, merely indifferent. - Carl Sagan\",\n",
    "    \"Somewhere, something incredible is waiting to be known. - Carl Sagan\",\n",
    "    \"Do not feel lonely, the entire universe is inside you. - Rumi\",\n",
    "    \"To the mind that is still, the whole universe surrenders. - Lao Tzu\",\n",
    "    \"The cosmos is within us. We are made of star-stuff. We are a way for the universe to know itself. - Carl Sagan\",\n",
    "    \"Follow your bliss and the universe will open doors for you where there were only walls. - Joseph Campbell\",\n",
    "    \"The universe is full of magical things patiently waiting for our wits to grow sharper. - Eden Phillpotts\",\n",
    "    \"Be curious, not judgmental. - Walt Whitman\",\n",
    "    \"We are just an advanced breed of monkeys on a minor planet of a very average star. But we can understand the Universe. That makes us something very special. - Stephen Hawking\",\n",
    "    \"Look up at the stars and not down at your feet. Try to make sense of what you see, and wonder about what makes the universe exist. Be curious. - Stephen Hawking\",\n",
    "    \"For small creatures such as we the vastness is bearable only through love. - Carl Sagan\",\n",
    "    \"We do not inherit the earth from our ancestors, we borrow it from our children. - Native American Proverb\",\n",
    "    \"The earth has music for those who listen. - William Shakespeare\",\n",
    "    \"The only thing that will redeem mankind is cooperation. - Bertrand Russell\",\n",
    "    \"We are all in the gutter, but some of us are looking at the stars. - Oscar Wilde\",\n",
    "    \"The best view comes after the hardest climb. - Unknown\",\n",
    "    \"Nature always wears the colors of the spirit. - Ralph Waldo Emerson\",\n",
    "    \"An understanding of the natural world and what's in it is a source of not only a great curiosity but great fulfillment. - David Attenborough\",\n",
    "    \"The fairest thing in nature, a flower, still has its roots in earth and manure. - D. H. Lawrence\",\n",
    "    \"Over every mountain there is a path, although it may not be seen from the valley. - Theodore Roethke\",\n",
    "    \"The sea, once it casts its spell, holds one in its net of wonder forever. - Jacques Yves Cousteau\",\n",
    "    \"I felt my lungs inflate with the onrush of scenery-air, mountains, trees, people. I thought, 'This is what it is to be happy.' - Sylvia Plath\",\n",
    "    \"The best remedy for those who are afraid, lonely or unhappy is to go outside, somewhere where they can be quiet, alone with the heavens, nature and God. - Anne Frank\",\n",
    "    \"The forest makes your heart gentle. You become one with it... No place for greed or anger there. - Pha Pachak\",\n",
    "    \"In every outthrust headland, in every curving beach, in every grain of sand there is the story of the earth. - Rachel Carson\",\n",
    "    \"Forget not that the earth delights to feel your bare feet and the winds long to play with your hair. - Khalil Gibran\",\n",
    "    \"The wilderness holds answers to questions man has not yet learned to ask. - Nancy Newhall\",\n",
    "    \"A walk in nature walks the soul back home. - Mary Davis\",\n",
    "    \"Going to the mountains is like going home. - John Muir\",\n",
    "    \"The creation of a thousand forests is in one acorn. - Ralph Waldo Emerson\",\n",
    "    \"Time spent amongst trees is never wasted time. - Katrina Mayer\",\n",
    "    \"I go to nature to be soothed and healed, and to have my senses put in order. - John Burroughs\",\n",
    "    \"What you do makes a difference, and you have to decide what kind of difference you want to make. - Jane Goodall\",\n",
    "    \"Nature does not bestow virtue; to be good is an art. - Seneca\",\n",
    "    \"Nature is not a place to visit. It is home. - Gary Snyder\",\n",
    "    \"The poetry of the earth is never dead. - John Keats\",\n",
    "    \"The earth laughs in flowers. - Ralph Waldo Emerson\",\n",
    "    \"Not just beautiful, though-the stars are like the trees in the forest, alive and breathing. And they're watching me. - Haruki Murakami\",\n",
    "    \"What we are doing to the forests of the world is but a mirror reflection of what we are doing to ourselves and to one another. - Mahatma Gandhi\",\n",
    "    \"This world is but a canvas to our imagination. - Henry David Thoreau\",\n",
    "    \"Adopt the pace of nature: her secret is patience. - Ralph Waldo Emerson\",\n",
    "    \"Every flower is a soul blossoming in nature. - Gerard De Nerval\",\n",
    "    \"Deep in their roots, all flowers keep the light. - Theodore Roethke\",\n",
    "    \"The mountains are calling and I must go, and I will work on while I can, studying incessantly. - John Muir\"\n",
    "]"
   ]
  },
  {
   "cell_type": "code",
   "execution_count": null,
   "metadata": {},
   "outputs": [],
   "source": [
    "from dotenv import load_dotenv\n",
    "import os\n",
    "\n",
    "# Load the environment variables from .env file\n",
    "load_dotenv()\n",
    "OPENAI_API_KEY = os.getenv('OPENAI_API_KEY')\n",
    "\n",
    "EMBEDDINGS_SIZE_LARGE = 3072\n",
    "EMBEDDINGS_SIZE_SMALL = 1536"
   ]
  },
  {
   "cell_type": "code",
   "execution_count": 3,
   "metadata": {},
   "outputs": [],
   "source": [
    "import numpy as np\n",
    "from langchain.embeddings import FakeEmbeddings\n",
    "from langchain_openai import OpenAIEmbeddings\n",
    "import faiss"
   ]
  },
  {
   "cell_type": "code",
   "execution_count": 26,
   "metadata": {},
   "outputs": [],
   "source": [
    "embeddings = OpenAIEmbeddings( model =\"text-embedding-3-large\", openai_api_key=OPENAI_API_KEY)\n",
    "# embeddings = FakeEmbeddings(size =EMBEDDINGS_SIZE_LARGE)"
   ]
  },
  {
   "cell_type": "code",
   "execution_count": 27,
   "metadata": {},
   "outputs": [],
   "source": [
    "embeddings_list  = []\n",
    "for quote in quotes:\n",
    "    embeddings_list.append(embeddings.embed_query(quote))\n",
    "\n",
    "embeddings_array = np.array(embeddings_list).astype('float32')"
   ]
  },
  {
   "cell_type": "code",
   "execution_count": 29,
   "metadata": {},
   "outputs": [],
   "source": [
    "index = faiss.IndexFlatL2(EMBEDDINGS_SIZE_LARGE)\n",
    "index.add(embeddings_array)"
   ]
  },
  {
   "cell_type": "code",
   "execution_count": 9,
   "metadata": {},
   "outputs": [
    {
     "data": {
      "text/plain": [
       "<faiss.swigfaiss_avx2.IndexFlatL2; proxy of <Swig Object of type 'faiss::IndexFlatL2 *' at 0x0000028532162040> >"
      ]
     },
     "execution_count": 9,
     "metadata": {},
     "output_type": "execute_result"
    }
   ],
   "source": [
    "index"
   ]
  },
  {
   "cell_type": "code",
   "execution_count": 35,
   "metadata": {},
   "outputs": [],
   "source": [
    "test_query = \"I like to go to the mountains\"\n",
    "test_query_embedding = np.array([embeddings.embed_query(test_query)]).astype('float32')"
   ]
  },
  {
   "cell_type": "code",
   "execution_count": 32,
   "metadata": {},
   "outputs": [
    {
     "data": {
      "text/plain": [
       "array([[ 0.00489246,  0.02492386,  0.00342538, ..., -0.01781595,\n",
       "         0.01660272, -0.01618073]], dtype=float32)"
      ]
     },
     "execution_count": 32,
     "metadata": {},
     "output_type": "execute_result"
    }
   ],
   "source": [
    "test_query_embedding"
   ]
  },
  {
   "cell_type": "code",
   "execution_count": 36,
   "metadata": {},
   "outputs": [],
   "source": [
    "distances, indices = index.search(test_query_embedding, 5)\n"
   ]
  },
  {
   "cell_type": "code",
   "execution_count": 23,
   "metadata": {},
   "outputs": [
    {
     "data": {
      "text/plain": [
       "array([[43, 22,  6, 44, 20]], dtype=int64)"
      ]
     },
     "execution_count": 23,
     "metadata": {},
     "output_type": "execute_result"
    }
   ],
   "source": [
    "indices"
   ]
  },
  {
   "cell_type": "code",
   "execution_count": 37,
   "metadata": {},
   "outputs": [
    {
     "data": {
      "text/plain": [
       "array([['Going to the mountains is like going home. - John Muir',\n",
       "        'The mountains are calling and I must go. - John Muir',\n",
       "        'Mountains are not stadiums where I satisfy my ambition to achieve, they are the cathedrals where I practice my religion. - Anatoli Boukreev',\n",
       "        'The mountains are calling and I must go, and I will work on while I can, studying incessantly. - John Muir',\n",
       "        'I go to nature to be soothed and healed, and to have my senses put in order. - John Burroughs']],\n",
       "      dtype='<U174')"
      ]
     },
     "execution_count": 37,
     "metadata": {},
     "output_type": "execute_result"
    }
   ],
   "source": [
    "np.array(quotes)[indices]"
   ]
  },
  {
   "cell_type": "code",
   "execution_count": 38,
   "metadata": {},
   "outputs": [],
   "source": [
    "faiss.write_index(index, \"quotes_faiss_VDB\")"
   ]
  },
  {
   "cell_type": "code",
   "execution_count": null,
   "metadata": {},
   "outputs": [],
   "source": [
    "faiss.read_index(\"quotes_faiss\")"
   ]
  }
 ],
 "metadata": {
  "kernelspec": {
   "display_name": ".venv",
   "language": "python",
   "name": "python3"
  },
  "language_info": {
   "codemirror_mode": {
    "name": "ipython",
    "version": 3
   },
   "file_extension": ".py",
   "mimetype": "text/x-python",
   "name": "python",
   "nbconvert_exporter": "python",
   "pygments_lexer": "ipython3",
   "version": "3.11.5"
  }
 },
 "nbformat": 4,
 "nbformat_minor": 2
}
